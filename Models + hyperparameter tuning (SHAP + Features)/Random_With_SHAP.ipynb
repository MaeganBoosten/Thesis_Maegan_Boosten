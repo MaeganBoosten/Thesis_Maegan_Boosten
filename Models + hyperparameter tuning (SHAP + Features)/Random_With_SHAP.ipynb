{
 "cells": [
  {
   "cell_type": "code",
   "execution_count": 37,
   "id": "d43f92b4",
   "metadata": {},
   "outputs": [],
   "source": [
    "import pandas as pd\n",
    "import numpy as np\n",
    "from sklearn.model_selection import train_test_split\n",
    "from sklearn.metrics import accuracy_score, confusion_matrix\n",
    "from sklearn import metrics\n",
    "from sklearn.metrics import roc_auc_score, recall_score, classification_report\n",
    "from sklearn.model_selection import StratifiedKFold, cross_val_score, cross_validate\n",
    "from sklearn.model_selection import GridSearchCV\n",
    "from sklearn.linear_model import LogisticRegression\n",
    "from sklearn.model_selection import train_test_split\n",
    "from sklearn.metrics import classification_report, confusion_matrix, roc_auc_score, recall_score\n",
    "from sklearn.linear_model import LogisticRegression\n",
    "from collections import Counter\n",
    "from sklearn.metrics import roc_auc_score\n",
    "from sklearn.datasets import make_classification\n",
    "from imblearn.over_sampling import RandomOverSampler\n",
    "from sklearn.preprocessing import StandardScaler\n",
    "from pandas import DataFrame"
   ]
  },
  {
   "cell_type": "code",
   "execution_count": 38,
   "id": "88f7cf24",
   "metadata": {},
   "outputs": [],
   "source": [
    "#Import Random Forest Model\n",
    "from sklearn.ensemble import RandomForestClassifier\n",
    "\n",
    "#Create a Gaussian Classifier\n",
    "clf=RandomForestClassifier(n_estimators=100)"
   ]
  },
  {
   "cell_type": "code",
   "execution_count": 39,
   "id": "a4c07060",
   "metadata": {},
   "outputs": [],
   "source": [
    "# import libraries for visualizations\n",
    "\n",
    "import seaborn as sns\n",
    "import matplotlib\n",
    "import matplotlib.pyplot as plt\n",
    "%matplotlib inline\n",
    "\n",
    "sns.set_style('darkgrid')\n",
    "matplotlib.rcParams['font.size'] = 14\n",
    "matplotlib.rcParams['figure.figsize'] = (9, 5)\n",
    "matplotlib.rcParams['figure.facecolor'] = '#00000000'"
   ]
  },
  {
   "cell_type": "code",
   "execution_count": 40,
   "id": "94164160",
   "metadata": {},
   "outputs": [
    {
     "name": "stdout",
     "output_type": "stream",
     "text": [
      "     duration  credit_amount  intallment_rate  residence_since       age  \\\n",
      "0    0.256953       1.078480         0.918477        -0.765977 -0.751642   \n",
      "1   -0.240857      -0.237923         0.918477         1.046987  2.590552   \n",
      "2    0.505858      -0.248556         0.024147         0.140505 -1.279356   \n",
      "3    0.256953       1.168508        -0.870183        -0.765977 -1.279356   \n",
      "4    2.248194       1.165673         0.024147        -0.765977 -1.015499   \n",
      "..        ...            ...              ...              ...       ...   \n",
      "369  1.252574       1.757239        -0.870183        -0.765977 -0.839594   \n",
      "370 -0.738668      -0.877693         0.918477         1.046987  1.535122   \n",
      "371 -0.738668      -0.912429         0.918477        -0.765977  0.919455   \n",
      "372  0.256953      -0.728473         0.918477         1.046987  0.215835   \n",
      "373 -0.738668      -0.615760        -1.764514        -1.672459 -1.103451   \n",
      "\n",
      "     number_of_existcr  number_of_dependents  telephon   foreign  \\\n",
      "0             1.027079             -0.428290  1.214598 -0.196014   \n",
      "1             1.027079             -0.428290 -0.823318 -0.196014   \n",
      "2            -0.704926             -0.428290 -0.823318 -0.196014   \n",
      "3            -0.704926             -0.428290 -0.823318 -0.196014   \n",
      "4            -0.704926             -0.428290 -0.823318 -0.196014   \n",
      "..                 ...                   ...       ...       ...   \n",
      "369          -0.704926              2.334869 -0.823318 -0.196014   \n",
      "370          -0.704926             -0.428290 -0.823318 -0.196014   \n",
      "371           1.027079             -0.428290  1.214598 -0.196014   \n",
      "372           1.027079              2.334869 -0.823318 -0.196014   \n",
      "373          -0.704926             -0.428290 -0.823318 -0.196014   \n",
      "\n",
      "     account_bal_neg_bal  ...  SHAP concurrent_credits_A141  \\\n",
      "0              -0.614337  ...                      0.064868   \n",
      "1               1.627770  ...                     -0.014842   \n",
      "2              -0.614337  ...                     -0.015520   \n",
      "3               1.627770  ...                     -0.007105   \n",
      "4              -0.614337  ...                     -0.013303   \n",
      "..                   ...  ...                           ...   \n",
      "369             1.627770  ...                     -0.011968   \n",
      "370             1.627770  ...                     -0.011701   \n",
      "371             1.627770  ...                      0.063789   \n",
      "372            -0.614337  ...                      0.084808   \n",
      "373            -0.614337  ...                     -0.015361   \n",
      "\n",
      "     SHAP concurrent_credits_A142  SHAP concurrent_credits_A143  \\\n",
      "0                       -0.001557                      0.056772   \n",
      "1                       -0.001884                     -0.018032   \n",
      "2                       -0.001938                     -0.018546   \n",
      "3                        0.024076                      0.044795   \n",
      "4                       -0.001797                     -0.015350   \n",
      "..                            ...                           ...   \n",
      "369                     -0.001038                     -0.015620   \n",
      "370                     -0.000672                     -0.014204   \n",
      "371                      0.000652                      0.054003   \n",
      "372                     -0.001589                      0.072790   \n",
      "373                     -0.002252                     -0.017984   \n",
      "\n",
      "     SHAP type_of_housing_A151  SHAP type_of_housing_A152  \\\n",
      "0                    -0.004865                  -0.003527   \n",
      "1                    -0.006233                   0.012378   \n",
      "2                     0.028367                   0.012533   \n",
      "3                    -0.003348                  -0.004745   \n",
      "4                    -0.005977                  -0.004934   \n",
      "..                         ...                        ...   \n",
      "369                  -0.006660                  -0.004817   \n",
      "370                  -0.005147                  -0.004788   \n",
      "371                  -0.003713                  -0.002757   \n",
      "372                  -0.006283                  -0.004776   \n",
      "373                   0.027776                   0.012132   \n",
      "\n",
      "     SHAP type_of_housing_A153  SHAP job_highly_skilled  SHAP job_skilled  \\\n",
      "0                     0.002281                 0.027455          0.002194   \n",
      "1                    -0.013266                -0.005748         -0.001417   \n",
      "2                     0.001546                -0.006234         -0.001911   \n",
      "3                     0.000936                -0.003342          0.003468   \n",
      "4                     0.001117                -0.005031         -0.001292   \n",
      "..                         ...                      ...               ...   \n",
      "369                   0.001314                -0.005072         -0.000762   \n",
      "370                   0.002182                -0.003584         -0.002065   \n",
      "371                   0.001086                -0.003312         -0.001956   \n",
      "372                   0.001733                -0.006629         -0.001228   \n",
      "373                   0.001857                -0.005823         -0.001917   \n",
      "\n",
      "     SHAP job_unskilled  False Positive  \n",
      "0              0.002499               1  \n",
      "1              0.005542               0  \n",
      "2              0.005920               0  \n",
      "3             -0.010243               1  \n",
      "4              0.005682               0  \n",
      "..                  ...             ...  \n",
      "369            0.004899               0  \n",
      "370            0.004997               0  \n",
      "371            0.003175               0  \n",
      "372            0.005678               0  \n",
      "373            0.005488               0  \n",
      "\n",
      "[374 rows x 115 columns]\n"
     ]
    }
   ],
   "source": [
    "df = pd.read_excel (r'/Users/MaeganBoosten/Thesis_Project/Final/Original_SHAP.xlsx')\n",
    "print (df)"
   ]
  },
  {
   "cell_type": "code",
   "execution_count": 41,
   "id": "29915452",
   "metadata": {},
   "outputs": [],
   "source": [
    "#split dataset"
   ]
  },
  {
   "cell_type": "code",
   "execution_count": 42,
   "id": "d42a2ece",
   "metadata": {},
   "outputs": [
    {
     "data": {
      "text/plain": [
       "((374, 114), (374,))"
      ]
     },
     "execution_count": 42,
     "metadata": {},
     "output_type": "execute_result"
    }
   ],
   "source": [
    "x, y = df.drop('False Positive', axis=1), df['False Positive']\n",
    "x.shape, y.shape"
   ]
  },
  {
   "cell_type": "code",
   "execution_count": 43,
   "id": "a7c07fe8",
   "metadata": {},
   "outputs": [
    {
     "name": "stdout",
     "output_type": "stream",
     "text": [
      "Counter({0: 270, 1: 104})\n",
      "Counter({1: 270, 0: 270})\n"
     ]
    }
   ],
   "source": [
    "#Oversampling\n",
    "# summarize class distribution\n",
    "print(Counter(y))\n",
    "# define oversampling strategy\n",
    "oversample = RandomOverSampler(sampling_strategy='minority')\n",
    "# fit and apply the transform\n",
    "X_over, y_over = oversample.fit_resample(x, y)\n",
    "# summarize class distribution\n",
    "print(Counter(y_over))"
   ]
  },
  {
   "cell_type": "code",
   "execution_count": 44,
   "id": "0bc2f49f",
   "metadata": {},
   "outputs": [],
   "source": [
    "x_train, x_test, y_train, y_test= train_test_split(X_over,y_over, test_size=.5, random_state=42)"
   ]
  },
  {
   "cell_type": "code",
   "execution_count": 45,
   "id": "969b1e96",
   "metadata": {},
   "outputs": [
    {
     "data": {
      "text/plain": [
       "((270, 114), (270, 114))"
      ]
     },
     "execution_count": 45,
     "metadata": {},
     "output_type": "execute_result"
    }
   ],
   "source": [
    "x_train.shape, x_test.shape"
   ]
  },
  {
   "cell_type": "code",
   "execution_count": 46,
   "id": "96ba0ef7",
   "metadata": {},
   "outputs": [
    {
     "data": {
      "text/plain": [
       "136"
      ]
     },
     "execution_count": 46,
     "metadata": {},
     "output_type": "execute_result"
    }
   ],
   "source": [
    "#Number of False Positives in y_train\n",
    "sum(y_train)"
   ]
  },
  {
   "cell_type": "code",
   "execution_count": 47,
   "id": "4c820972",
   "metadata": {},
   "outputs": [
    {
     "data": {
      "text/plain": [
       "134"
      ]
     },
     "execution_count": 47,
     "metadata": {},
     "output_type": "execute_result"
    }
   ],
   "source": [
    "#Number of False Positives in y_test\n",
    "sum(y_test)"
   ]
  },
  {
   "cell_type": "code",
   "execution_count": 48,
   "id": "374616ec",
   "metadata": {},
   "outputs": [
    {
     "data": {
      "text/plain": [
       "0    0.721925\n",
       "1    0.278075\n",
       "Name: False Positive, dtype: float64"
      ]
     },
     "execution_count": 48,
     "metadata": {},
     "output_type": "execute_result"
    }
   ],
   "source": [
    "#Baseline for evaluation\n",
    "y.value_counts(normalize=True)"
   ]
  },
  {
   "cell_type": "code",
   "execution_count": 49,
   "id": "3470dd88",
   "metadata": {},
   "outputs": [
    {
     "data": {
      "text/html": [
       "<style>#sk-container-id-4 {color: black;background-color: white;}#sk-container-id-4 pre{padding: 0;}#sk-container-id-4 div.sk-toggleable {background-color: white;}#sk-container-id-4 label.sk-toggleable__label {cursor: pointer;display: block;width: 100%;margin-bottom: 0;padding: 0.3em;box-sizing: border-box;text-align: center;}#sk-container-id-4 label.sk-toggleable__label-arrow:before {content: \"▸\";float: left;margin-right: 0.25em;color: #696969;}#sk-container-id-4 label.sk-toggleable__label-arrow:hover:before {color: black;}#sk-container-id-4 div.sk-estimator:hover label.sk-toggleable__label-arrow:before {color: black;}#sk-container-id-4 div.sk-toggleable__content {max-height: 0;max-width: 0;overflow: hidden;text-align: left;background-color: #f0f8ff;}#sk-container-id-4 div.sk-toggleable__content pre {margin: 0.2em;color: black;border-radius: 0.25em;background-color: #f0f8ff;}#sk-container-id-4 input.sk-toggleable__control:checked~div.sk-toggleable__content {max-height: 200px;max-width: 100%;overflow: auto;}#sk-container-id-4 input.sk-toggleable__control:checked~label.sk-toggleable__label-arrow:before {content: \"▾\";}#sk-container-id-4 div.sk-estimator input.sk-toggleable__control:checked~label.sk-toggleable__label {background-color: #d4ebff;}#sk-container-id-4 div.sk-label input.sk-toggleable__control:checked~label.sk-toggleable__label {background-color: #d4ebff;}#sk-container-id-4 input.sk-hidden--visually {border: 0;clip: rect(1px 1px 1px 1px);clip: rect(1px, 1px, 1px, 1px);height: 1px;margin: -1px;overflow: hidden;padding: 0;position: absolute;width: 1px;}#sk-container-id-4 div.sk-estimator {font-family: monospace;background-color: #f0f8ff;border: 1px dotted black;border-radius: 0.25em;box-sizing: border-box;margin-bottom: 0.5em;}#sk-container-id-4 div.sk-estimator:hover {background-color: #d4ebff;}#sk-container-id-4 div.sk-parallel-item::after {content: \"\";width: 100%;border-bottom: 1px solid gray;flex-grow: 1;}#sk-container-id-4 div.sk-label:hover label.sk-toggleable__label {background-color: #d4ebff;}#sk-container-id-4 div.sk-serial::before {content: \"\";position: absolute;border-left: 1px solid gray;box-sizing: border-box;top: 0;bottom: 0;left: 50%;z-index: 0;}#sk-container-id-4 div.sk-serial {display: flex;flex-direction: column;align-items: center;background-color: white;padding-right: 0.2em;padding-left: 0.2em;position: relative;}#sk-container-id-4 div.sk-item {position: relative;z-index: 1;}#sk-container-id-4 div.sk-parallel {display: flex;align-items: stretch;justify-content: center;background-color: white;position: relative;}#sk-container-id-4 div.sk-item::before, #sk-container-id-4 div.sk-parallel-item::before {content: \"\";position: absolute;border-left: 1px solid gray;box-sizing: border-box;top: 0;bottom: 0;left: 50%;z-index: -1;}#sk-container-id-4 div.sk-parallel-item {display: flex;flex-direction: column;z-index: 1;position: relative;background-color: white;}#sk-container-id-4 div.sk-parallel-item:first-child::after {align-self: flex-end;width: 50%;}#sk-container-id-4 div.sk-parallel-item:last-child::after {align-self: flex-start;width: 50%;}#sk-container-id-4 div.sk-parallel-item:only-child::after {width: 0;}#sk-container-id-4 div.sk-dashed-wrapped {border: 1px dashed gray;margin: 0 0.4em 0.5em 0.4em;box-sizing: border-box;padding-bottom: 0.4em;background-color: white;}#sk-container-id-4 div.sk-label label {font-family: monospace;font-weight: bold;display: inline-block;line-height: 1.2em;}#sk-container-id-4 div.sk-label-container {text-align: center;}#sk-container-id-4 div.sk-container {/* jupyter's `normalize.less` sets `[hidden] { display: none; }` but bootstrap.min.css set `[hidden] { display: none !important; }` so we also need the `!important` here to be able to override the default hidden behavior on the sphinx rendered scikit-learn.org. See: https://github.com/scikit-learn/scikit-learn/issues/21755 */display: inline-block !important;position: relative;}#sk-container-id-4 div.sk-text-repr-fallback {display: none;}</style><div id=\"sk-container-id-4\" class=\"sk-top-container\"><div class=\"sk-text-repr-fallback\"><pre>RandomForestClassifier()</pre><b>In a Jupyter environment, please rerun this cell to show the HTML representation or trust the notebook. <br />On GitHub, the HTML representation is unable to render, please try loading this page with nbviewer.org.</b></div><div class=\"sk-container\" hidden><div class=\"sk-item\"><div class=\"sk-estimator sk-toggleable\"><input class=\"sk-toggleable__control sk-hidden--visually\" id=\"sk-estimator-id-8\" type=\"checkbox\" checked><label for=\"sk-estimator-id-8\" class=\"sk-toggleable__label sk-toggleable__label-arrow\">RandomForestClassifier</label><div class=\"sk-toggleable__content\"><pre>RandomForestClassifier()</pre></div></div></div></div></div>"
      ],
      "text/plain": [
       "RandomForestClassifier()"
      ]
     },
     "execution_count": 49,
     "metadata": {},
     "output_type": "execute_result"
    }
   ],
   "source": [
    "#Train the model using the training sets y_pred=clf.predict(X_test)\n",
    "clf.fit(x_train,y_train)"
   ]
  },
  {
   "cell_type": "code",
   "execution_count": 50,
   "id": "39000fc1",
   "metadata": {},
   "outputs": [],
   "source": [
    "y_pred=clf.predict(x_test)"
   ]
  },
  {
   "cell_type": "code",
   "execution_count": 51,
   "id": "602b7b2d",
   "metadata": {},
   "outputs": [],
   "source": [
    "def acc_val(TP, TN, FP, FN, data):    \n",
    "    accuracy = (TP + TN) / float(TP + TN + FP + FN)\n",
    "    recall = TP / float(FN + TP)\n",
    "    specificity = TN / (TN + FP)\n",
    "    false_positive_rate = FP / float(TN + FP)\n",
    "    precision = TP / float(TP + FP)\n",
    "    F1 = 2 * (precision * recall) / (precision + recall)\n",
    "    print('The values for {} are:'.format(data))\n",
    "    print('Accuracy: {} ,Recall: {} , Specificity: {} , False Positive Rate: {} , Precision: {}, F1 Score: {}'.format(accuracy, recall, specificity, false_positive_rate,\n",
    "                                                                                                                   precision, F1))"
   ]
  },
  {
   "cell_type": "code",
   "execution_count": 52,
   "id": "c2e1b775",
   "metadata": {},
   "outputs": [
    {
     "data": {
      "text/plain": [
       "array([[117,  19],\n",
       "       [ 32, 102]])"
      ]
     },
     "execution_count": 52,
     "metadata": {},
     "output_type": "execute_result"
    }
   ],
   "source": [
    "confusion_matrix(y_test, clf.predict(x_test))"
   ]
  },
  {
   "cell_type": "code",
   "execution_count": 53,
   "id": "7394fbc6",
   "metadata": {},
   "outputs": [
    {
     "name": "stdout",
     "output_type": "stream",
     "text": [
      "              precision    recall  f1-score   support\n",
      "\n",
      "           0       0.79      0.86      0.82       136\n",
      "           1       0.84      0.76      0.80       134\n",
      "\n",
      "    accuracy                           0.81       270\n",
      "   macro avg       0.81      0.81      0.81       270\n",
      "weighted avg       0.81      0.81      0.81       270\n",
      "\n"
     ]
    }
   ],
   "source": [
    "print(classification_report(y_test, clf.predict(x_test)))"
   ]
  },
  {
   "cell_type": "code",
   "execution_count": 54,
   "id": "a3ba5299",
   "metadata": {},
   "outputs": [
    {
     "name": "stdout",
     "output_type": "stream",
     "text": [
      "[[117  19]\n",
      " [ 32 102]]\n",
      "The values for Test Data are:\n",
      "Accuracy: 0.8111111111111111 ,Recall: 0.7611940298507462 , Specificity: 0.8602941176470589 , False Positive Rate: 0.13970588235294118 , Precision: 0.8429752066115702, F1 Score: 0.7999999999999999\n"
     ]
    }
   ],
   "source": [
    "confusion = metrics.confusion_matrix(y_test, clf.predict(x_test))\n",
    "print(confusion)\n",
    "TP1 = confusion[1, 1]\n",
    "TN1 = confusion[0, 0]\n",
    "FP1 = confusion[0, 1]\n",
    "FN1 = confusion[1, 0]\n",
    "acc_val(TP1, TN1, FP1, FN1, 'Test Data')"
   ]
  },
  {
   "cell_type": "code",
   "execution_count": 55,
   "id": "68313b34",
   "metadata": {},
   "outputs": [
    {
     "data": {
      "text/plain": [
       "0.8107440737489027"
      ]
     },
     "execution_count": 55,
     "metadata": {},
     "output_type": "execute_result"
    }
   ],
   "source": [
    "roc_auc_score(y_test, clf.predict(x_test))"
   ]
  },
  {
   "cell_type": "code",
   "execution_count": 56,
   "id": "84295c34",
   "metadata": {},
   "outputs": [],
   "source": [
    "# Hyperparameter tuning"
   ]
  },
  {
   "cell_type": "code",
   "execution_count": 57,
   "id": "918dcfcf",
   "metadata": {},
   "outputs": [
    {
     "name": "stdout",
     "output_type": "stream",
     "text": [
      "CV accuracy score: 78.15%\n"
     ]
    }
   ],
   "source": [
    "# create model with default parameters- baseline\n",
    "skf= StratifiedKFold(n_splits=10, shuffle=True, random_state=42)\n",
    "rf_baseline = RandomForestClassifier(random_state=42, n_jobs=-1)\n",
    "\n",
    "# Train it on the training set\n",
    "cv_result_baseline= cross_val_score(rf_baseline, x_test, y_test, cv=skf)\n",
    "\n",
    "# Evalute the results (cross-val)\n",
    "print(\"CV accuracy score: {:.2f}%\".format(cv_result_baseline.mean() * 100))"
   ]
  },
  {
   "cell_type": "code",
   "execution_count": 58,
   "id": "b62c3748",
   "metadata": {},
   "outputs": [
    {
     "name": "stdout",
     "output_type": "stream",
     "text": [
      "Test accuracy score: 77.04%\n"
     ]
    }
   ],
   "source": [
    "# train model \n",
    "rf_baseline.fit(x_train, y_train)\n",
    "\n",
    "pred_test_rf= rf_baseline.predict(x_test)\n",
    "print(\"Test accuracy score: {:.2f}%\".format((accuracy_score(pred_test_rf, y_test) * 100)))\n"
   ]
  },
  {
   "cell_type": "code",
   "execution_count": 59,
   "id": "3559e684",
   "metadata": {},
   "outputs": [],
   "source": [
    "#Improve results, start with number of trees"
   ]
  },
  {
   "cell_type": "code",
   "execution_count": 60,
   "id": "a4cbdf14",
   "metadata": {},
   "outputs": [],
   "source": [
    "# Create lists to save the values of accuracy on training and test sets\n",
    "train_acc = []\n",
    "test_acc = []\n",
    "temp_train_acc = []\n",
    "trees_grid = [5, 10, 15, 20, 30, 50, 75, 100]"
   ]
  },
  {
   "cell_type": "code",
   "execution_count": 61,
   "id": "aefafe88",
   "metadata": {},
   "outputs": [],
   "source": [
    "for ntrees in trees_grid:\n",
    "    rf = RandomForestClassifier(n_estimators=ntrees, random_state=42, n_jobs=-1).fit(x_train, y_train)\n",
    "    temp_train_acc=cross_val_score(rf, x_test, y_test, cv=skf)\n",
    "    train_acc.append(temp_train_acc.mean())\n",
    "    test_acc.append(accuracy_score(rf.predict(x_test), y_test))"
   ]
  },
  {
   "cell_type": "code",
   "execution_count": 62,
   "id": "e012e2d1",
   "metadata": {},
   "outputs": [
    {
     "name": "stdout",
     "output_type": "stream",
     "text": [
      "Best CV accuracy is 78.52% with 30 trees\n"
     ]
    },
    {
     "data": {
      "text/plain": [
       "<module 'matplotlib.pyplot' from '/Users/MaeganBoosten/opt/anaconda3/lib/python3.8/site-packages/matplotlib/pyplot.py'>"
      ]
     },
     "execution_count": 62,
     "metadata": {},
     "output_type": "execute_result"
    }
   ],
   "source": [
    "print(\"Best CV accuracy is {:.2f}% with {} trees\".format(max(test_acc)*100, \n",
    "                                                        trees_grid[np.argmax(test_acc)]))\n",
    "plt"
   ]
  },
  {
   "cell_type": "code",
   "execution_count": 63,
   "id": "8ad66a74",
   "metadata": {},
   "outputs": [
    {
     "name": "stdout",
     "output_type": "stream",
     "text": [
      "Best CV accuracy is 77.78% with 7 max_depth\n"
     ]
    }
   ],
   "source": [
    "# Create lists to save the values of accuracy on training and test sets\n",
    "train_acc = []\n",
    "test_acc = []\n",
    "temp_train_acc\n",
    "max_depth_grid = [3, 5, 7, 9, 11, 13, 15, 17, 20, 22, 24]\n",
    "\n",
    "for max_depth in max_depth_grid:\n",
    "    rf = RandomForestClassifier(n_estimators=20, random_state=42, n_jobs=-1, max_depth=max_depth).fit(x_train, y_train)\n",
    "    temp_train_acc=cross_val_score(rf, x_test, y_test, cv=skf)\n",
    "    train_acc.append(temp_train_acc.mean())\n",
    "    test_acc.append(accuracy_score(rf.predict(x_test), y_test))\n",
    "\n",
    "print(\"Best CV accuracy is {:.2f}% with {} max_depth\".format(max(test_acc)*100, \n",
    "                                                        max_depth_grid[np.argmax(test_acc)]))"
   ]
  },
  {
   "cell_type": "code",
   "execution_count": 64,
   "id": "62f4059c",
   "metadata": {},
   "outputs": [
    {
     "name": "stdout",
     "output_type": "stream",
     "text": [
      "Best CV accuracy is 76.67% with 1 min_sample_leaf\n"
     ]
    }
   ],
   "source": [
    "# Create lists to save the values of accuracy on training and test sets\n",
    "train_acc = []\n",
    "test_acc = []\n",
    "temp_train_acc\n",
    "min_samples_leaf_grid = [1, 3, 5, 7, 9, 11, 13, 15, 17, 20, 22, 24]\n",
    "\n",
    "for min_sample in min_samples_leaf_grid:\n",
    "    rf = RandomForestClassifier(n_estimators=20, random_state=42, n_jobs=-1, min_samples_leaf=min_sample).fit(x_train, y_train)\n",
    "    temp_train_acc=cross_val_score(rf, x_test, y_test, cv=skf)\n",
    "    train_acc.append(temp_train_acc.mean())\n",
    "    test_acc.append(accuracy_score(rf.predict(x_test), y_test))\n",
    "\n",
    "print(\"Best CV accuracy is {:.2f}% with {} min_sample_leaf\".format(max(test_acc)*100, \n",
    "                                                        min_samples_leaf_grid[np.argmax(test_acc)]))\n"
   ]
  },
  {
   "cell_type": "code",
   "execution_count": 65,
   "id": "77b859e1",
   "metadata": {},
   "outputs": [
    {
     "name": "stdout",
     "output_type": "stream",
     "text": [
      "Best CV accuracy is 81.11% with 16 max_features\n"
     ]
    }
   ],
   "source": [
    "# Create lists to save the values of accuracy on training and test sets\n",
    "train_acc = []\n",
    "test_acc = []\n",
    "temp_train_acc\n",
    "max_features_grid = [2, 4, 6, 8, 10, 12, 14, 16]\n",
    "\n",
    "for max_feature in max_features_grid:\n",
    "    rf = RandomForestClassifier(n_estimators=20, random_state=42, n_jobs=-1, max_features=max_feature).fit(x_train, y_train)\n",
    "    temp_train_acc=cross_val_score(rf, x_test, y_test, cv=skf)\n",
    "    train_acc.append(temp_train_acc.mean())\n",
    "    test_acc.append(accuracy_score(rf.predict(x_test), y_test))\n",
    "\n",
    "print(\"Best CV accuracy is {:.2f}% with {} max_features\".format(max(test_acc)*100, \n",
    "                                                        max_features_grid[np.argmax(test_acc)]))"
   ]
  },
  {
   "cell_type": "code",
   "execution_count": 66,
   "id": "aed7f991",
   "metadata": {},
   "outputs": [
    {
     "name": "stdout",
     "output_type": "stream",
     "text": [
      "Fitting 10 folds for each of 1 candidates, totalling 10 fits\n"
     ]
    },
    {
     "data": {
      "text/html": [
       "<style>#sk-container-id-5 {color: black;background-color: white;}#sk-container-id-5 pre{padding: 0;}#sk-container-id-5 div.sk-toggleable {background-color: white;}#sk-container-id-5 label.sk-toggleable__label {cursor: pointer;display: block;width: 100%;margin-bottom: 0;padding: 0.3em;box-sizing: border-box;text-align: center;}#sk-container-id-5 label.sk-toggleable__label-arrow:before {content: \"▸\";float: left;margin-right: 0.25em;color: #696969;}#sk-container-id-5 label.sk-toggleable__label-arrow:hover:before {color: black;}#sk-container-id-5 div.sk-estimator:hover label.sk-toggleable__label-arrow:before {color: black;}#sk-container-id-5 div.sk-toggleable__content {max-height: 0;max-width: 0;overflow: hidden;text-align: left;background-color: #f0f8ff;}#sk-container-id-5 div.sk-toggleable__content pre {margin: 0.2em;color: black;border-radius: 0.25em;background-color: #f0f8ff;}#sk-container-id-5 input.sk-toggleable__control:checked~div.sk-toggleable__content {max-height: 200px;max-width: 100%;overflow: auto;}#sk-container-id-5 input.sk-toggleable__control:checked~label.sk-toggleable__label-arrow:before {content: \"▾\";}#sk-container-id-5 div.sk-estimator input.sk-toggleable__control:checked~label.sk-toggleable__label {background-color: #d4ebff;}#sk-container-id-5 div.sk-label input.sk-toggleable__control:checked~label.sk-toggleable__label {background-color: #d4ebff;}#sk-container-id-5 input.sk-hidden--visually {border: 0;clip: rect(1px 1px 1px 1px);clip: rect(1px, 1px, 1px, 1px);height: 1px;margin: -1px;overflow: hidden;padding: 0;position: absolute;width: 1px;}#sk-container-id-5 div.sk-estimator {font-family: monospace;background-color: #f0f8ff;border: 1px dotted black;border-radius: 0.25em;box-sizing: border-box;margin-bottom: 0.5em;}#sk-container-id-5 div.sk-estimator:hover {background-color: #d4ebff;}#sk-container-id-5 div.sk-parallel-item::after {content: \"\";width: 100%;border-bottom: 1px solid gray;flex-grow: 1;}#sk-container-id-5 div.sk-label:hover label.sk-toggleable__label {background-color: #d4ebff;}#sk-container-id-5 div.sk-serial::before {content: \"\";position: absolute;border-left: 1px solid gray;box-sizing: border-box;top: 0;bottom: 0;left: 50%;z-index: 0;}#sk-container-id-5 div.sk-serial {display: flex;flex-direction: column;align-items: center;background-color: white;padding-right: 0.2em;padding-left: 0.2em;position: relative;}#sk-container-id-5 div.sk-item {position: relative;z-index: 1;}#sk-container-id-5 div.sk-parallel {display: flex;align-items: stretch;justify-content: center;background-color: white;position: relative;}#sk-container-id-5 div.sk-item::before, #sk-container-id-5 div.sk-parallel-item::before {content: \"\";position: absolute;border-left: 1px solid gray;box-sizing: border-box;top: 0;bottom: 0;left: 50%;z-index: -1;}#sk-container-id-5 div.sk-parallel-item {display: flex;flex-direction: column;z-index: 1;position: relative;background-color: white;}#sk-container-id-5 div.sk-parallel-item:first-child::after {align-self: flex-end;width: 50%;}#sk-container-id-5 div.sk-parallel-item:last-child::after {align-self: flex-start;width: 50%;}#sk-container-id-5 div.sk-parallel-item:only-child::after {width: 0;}#sk-container-id-5 div.sk-dashed-wrapped {border: 1px dashed gray;margin: 0 0.4em 0.5em 0.4em;box-sizing: border-box;padding-bottom: 0.4em;background-color: white;}#sk-container-id-5 div.sk-label label {font-family: monospace;font-weight: bold;display: inline-block;line-height: 1.2em;}#sk-container-id-5 div.sk-label-container {text-align: center;}#sk-container-id-5 div.sk-container {/* jupyter's `normalize.less` sets `[hidden] { display: none; }` but bootstrap.min.css set `[hidden] { display: none !important; }` so we also need the `!important` here to be able to override the default hidden behavior on the sphinx rendered scikit-learn.org. See: https://github.com/scikit-learn/scikit-learn/issues/21755 */display: inline-block !important;position: relative;}#sk-container-id-5 div.sk-text-repr-fallback {display: none;}</style><div id=\"sk-container-id-5\" class=\"sk-top-container\"><div class=\"sk-text-repr-fallback\"><pre>GridSearchCV(cv=StratifiedKFold(n_splits=10, random_state=42, shuffle=True),\n",
       "             estimator=RandomForestClassifier(n_estimators=20, n_jobs=-1,\n",
       "                                              random_state=42),\n",
       "             n_jobs=-1,\n",
       "             param_grid={&#x27;max_depth&#x27;: [9], &#x27;max_features&#x27;: [4],\n",
       "                         &#x27;min_samples_leaf&#x27;: [1]},\n",
       "             verbose=1)</pre><b>In a Jupyter environment, please rerun this cell to show the HTML representation or trust the notebook. <br />On GitHub, the HTML representation is unable to render, please try loading this page with nbviewer.org.</b></div><div class=\"sk-container\" hidden><div class=\"sk-item sk-dashed-wrapped\"><div class=\"sk-label-container\"><div class=\"sk-label sk-toggleable\"><input class=\"sk-toggleable__control sk-hidden--visually\" id=\"sk-estimator-id-9\" type=\"checkbox\" ><label for=\"sk-estimator-id-9\" class=\"sk-toggleable__label sk-toggleable__label-arrow\">GridSearchCV</label><div class=\"sk-toggleable__content\"><pre>GridSearchCV(cv=StratifiedKFold(n_splits=10, random_state=42, shuffle=True),\n",
       "             estimator=RandomForestClassifier(n_estimators=20, n_jobs=-1,\n",
       "                                              random_state=42),\n",
       "             n_jobs=-1,\n",
       "             param_grid={&#x27;max_depth&#x27;: [9], &#x27;max_features&#x27;: [4],\n",
       "                         &#x27;min_samples_leaf&#x27;: [1]},\n",
       "             verbose=1)</pre></div></div></div><div class=\"sk-parallel\"><div class=\"sk-parallel-item\"><div class=\"sk-item\"><div class=\"sk-label-container\"><div class=\"sk-label sk-toggleable\"><input class=\"sk-toggleable__control sk-hidden--visually\" id=\"sk-estimator-id-10\" type=\"checkbox\" ><label for=\"sk-estimator-id-10\" class=\"sk-toggleable__label sk-toggleable__label-arrow\">estimator: RandomForestClassifier</label><div class=\"sk-toggleable__content\"><pre>RandomForestClassifier(n_estimators=20, n_jobs=-1, random_state=42)</pre></div></div></div><div class=\"sk-serial\"><div class=\"sk-item\"><div class=\"sk-estimator sk-toggleable\"><input class=\"sk-toggleable__control sk-hidden--visually\" id=\"sk-estimator-id-11\" type=\"checkbox\" ><label for=\"sk-estimator-id-11\" class=\"sk-toggleable__label sk-toggleable__label-arrow\">RandomForestClassifier</label><div class=\"sk-toggleable__content\"><pre>RandomForestClassifier(n_estimators=20, n_jobs=-1, random_state=42)</pre></div></div></div></div></div></div></div></div></div></div>"
      ],
      "text/plain": [
       "GridSearchCV(cv=StratifiedKFold(n_splits=10, random_state=42, shuffle=True),\n",
       "             estimator=RandomForestClassifier(n_estimators=20, n_jobs=-1,\n",
       "                                              random_state=42),\n",
       "             n_jobs=-1,\n",
       "             param_grid={'max_depth': [9], 'max_features': [4],\n",
       "                         'min_samples_leaf': [1]},\n",
       "             verbose=1)"
      ]
     },
     "execution_count": 66,
     "metadata": {},
     "output_type": "execute_result"
    }
   ],
   "source": [
    "# Initialize the set of parameters for exhaustive search and fit \n",
    "parameters = {'max_features': [4], \n",
    "              'min_samples_leaf': [1], \n",
    "              'max_depth': [9]}\n",
    "rf = RandomForestClassifier(n_estimators=20, random_state=42, n_jobs=-1)\n",
    "gcv = GridSearchCV(rf, parameters, n_jobs=-1, cv=skf, verbose=1)\n",
    "gcv.fit(x_train, y_train)"
   ]
  },
  {
   "cell_type": "code",
   "execution_count": 67,
   "id": "621c2bcd",
   "metadata": {},
   "outputs": [
    {
     "data": {
      "text/plain": [
       "({'max_depth': 9, 'max_features': 4, 'min_samples_leaf': 1},\n",
       " 0.8111111111111111)"
      ]
     },
     "execution_count": 67,
     "metadata": {},
     "output_type": "execute_result"
    }
   ],
   "source": [
    "gcv.best_params_, gcv.best_score_"
   ]
  },
  {
   "cell_type": "code",
   "execution_count": 68,
   "id": "10f631d3",
   "metadata": {},
   "outputs": [
    {
     "name": "stdout",
     "output_type": "stream",
     "text": [
      "Fitting 10 folds for each of 1 candidates, totalling 10 fits\n"
     ]
    },
    {
     "data": {
      "text/html": [
       "<style>#sk-container-id-6 {color: black;background-color: white;}#sk-container-id-6 pre{padding: 0;}#sk-container-id-6 div.sk-toggleable {background-color: white;}#sk-container-id-6 label.sk-toggleable__label {cursor: pointer;display: block;width: 100%;margin-bottom: 0;padding: 0.3em;box-sizing: border-box;text-align: center;}#sk-container-id-6 label.sk-toggleable__label-arrow:before {content: \"▸\";float: left;margin-right: 0.25em;color: #696969;}#sk-container-id-6 label.sk-toggleable__label-arrow:hover:before {color: black;}#sk-container-id-6 div.sk-estimator:hover label.sk-toggleable__label-arrow:before {color: black;}#sk-container-id-6 div.sk-toggleable__content {max-height: 0;max-width: 0;overflow: hidden;text-align: left;background-color: #f0f8ff;}#sk-container-id-6 div.sk-toggleable__content pre {margin: 0.2em;color: black;border-radius: 0.25em;background-color: #f0f8ff;}#sk-container-id-6 input.sk-toggleable__control:checked~div.sk-toggleable__content {max-height: 200px;max-width: 100%;overflow: auto;}#sk-container-id-6 input.sk-toggleable__control:checked~label.sk-toggleable__label-arrow:before {content: \"▾\";}#sk-container-id-6 div.sk-estimator input.sk-toggleable__control:checked~label.sk-toggleable__label {background-color: #d4ebff;}#sk-container-id-6 div.sk-label input.sk-toggleable__control:checked~label.sk-toggleable__label {background-color: #d4ebff;}#sk-container-id-6 input.sk-hidden--visually {border: 0;clip: rect(1px 1px 1px 1px);clip: rect(1px, 1px, 1px, 1px);height: 1px;margin: -1px;overflow: hidden;padding: 0;position: absolute;width: 1px;}#sk-container-id-6 div.sk-estimator {font-family: monospace;background-color: #f0f8ff;border: 1px dotted black;border-radius: 0.25em;box-sizing: border-box;margin-bottom: 0.5em;}#sk-container-id-6 div.sk-estimator:hover {background-color: #d4ebff;}#sk-container-id-6 div.sk-parallel-item::after {content: \"\";width: 100%;border-bottom: 1px solid gray;flex-grow: 1;}#sk-container-id-6 div.sk-label:hover label.sk-toggleable__label {background-color: #d4ebff;}#sk-container-id-6 div.sk-serial::before {content: \"\";position: absolute;border-left: 1px solid gray;box-sizing: border-box;top: 0;bottom: 0;left: 50%;z-index: 0;}#sk-container-id-6 div.sk-serial {display: flex;flex-direction: column;align-items: center;background-color: white;padding-right: 0.2em;padding-left: 0.2em;position: relative;}#sk-container-id-6 div.sk-item {position: relative;z-index: 1;}#sk-container-id-6 div.sk-parallel {display: flex;align-items: stretch;justify-content: center;background-color: white;position: relative;}#sk-container-id-6 div.sk-item::before, #sk-container-id-6 div.sk-parallel-item::before {content: \"\";position: absolute;border-left: 1px solid gray;box-sizing: border-box;top: 0;bottom: 0;left: 50%;z-index: -1;}#sk-container-id-6 div.sk-parallel-item {display: flex;flex-direction: column;z-index: 1;position: relative;background-color: white;}#sk-container-id-6 div.sk-parallel-item:first-child::after {align-self: flex-end;width: 50%;}#sk-container-id-6 div.sk-parallel-item:last-child::after {align-self: flex-start;width: 50%;}#sk-container-id-6 div.sk-parallel-item:only-child::after {width: 0;}#sk-container-id-6 div.sk-dashed-wrapped {border: 1px dashed gray;margin: 0 0.4em 0.5em 0.4em;box-sizing: border-box;padding-bottom: 0.4em;background-color: white;}#sk-container-id-6 div.sk-label label {font-family: monospace;font-weight: bold;display: inline-block;line-height: 1.2em;}#sk-container-id-6 div.sk-label-container {text-align: center;}#sk-container-id-6 div.sk-container {/* jupyter's `normalize.less` sets `[hidden] { display: none; }` but bootstrap.min.css set `[hidden] { display: none !important; }` so we also need the `!important` here to be able to override the default hidden behavior on the sphinx rendered scikit-learn.org. See: https://github.com/scikit-learn/scikit-learn/issues/21755 */display: inline-block !important;position: relative;}#sk-container-id-6 div.sk-text-repr-fallback {display: none;}</style><div id=\"sk-container-id-6\" class=\"sk-top-container\"><div class=\"sk-text-repr-fallback\"><pre>GridSearchCV(cv=StratifiedKFold(n_splits=10, random_state=42, shuffle=True),\n",
       "             estimator=RandomForestClassifier(n_estimators=20, n_jobs=-1,\n",
       "                                              random_state=42),\n",
       "             n_jobs=-1,\n",
       "             param_grid={&#x27;max_depth&#x27;: [9], &#x27;max_features&#x27;: [4],\n",
       "                         &#x27;min_samples_leaf&#x27;: [1]},\n",
       "             verbose=1)</pre><b>In a Jupyter environment, please rerun this cell to show the HTML representation or trust the notebook. <br />On GitHub, the HTML representation is unable to render, please try loading this page with nbviewer.org.</b></div><div class=\"sk-container\" hidden><div class=\"sk-item sk-dashed-wrapped\"><div class=\"sk-label-container\"><div class=\"sk-label sk-toggleable\"><input class=\"sk-toggleable__control sk-hidden--visually\" id=\"sk-estimator-id-12\" type=\"checkbox\" ><label for=\"sk-estimator-id-12\" class=\"sk-toggleable__label sk-toggleable__label-arrow\">GridSearchCV</label><div class=\"sk-toggleable__content\"><pre>GridSearchCV(cv=StratifiedKFold(n_splits=10, random_state=42, shuffle=True),\n",
       "             estimator=RandomForestClassifier(n_estimators=20, n_jobs=-1,\n",
       "                                              random_state=42),\n",
       "             n_jobs=-1,\n",
       "             param_grid={&#x27;max_depth&#x27;: [9], &#x27;max_features&#x27;: [4],\n",
       "                         &#x27;min_samples_leaf&#x27;: [1]},\n",
       "             verbose=1)</pre></div></div></div><div class=\"sk-parallel\"><div class=\"sk-parallel-item\"><div class=\"sk-item\"><div class=\"sk-label-container\"><div class=\"sk-label sk-toggleable\"><input class=\"sk-toggleable__control sk-hidden--visually\" id=\"sk-estimator-id-13\" type=\"checkbox\" ><label for=\"sk-estimator-id-13\" class=\"sk-toggleable__label sk-toggleable__label-arrow\">estimator: RandomForestClassifier</label><div class=\"sk-toggleable__content\"><pre>RandomForestClassifier(n_estimators=20, n_jobs=-1, random_state=42)</pre></div></div></div><div class=\"sk-serial\"><div class=\"sk-item\"><div class=\"sk-estimator sk-toggleable\"><input class=\"sk-toggleable__control sk-hidden--visually\" id=\"sk-estimator-id-14\" type=\"checkbox\" ><label for=\"sk-estimator-id-14\" class=\"sk-toggleable__label sk-toggleable__label-arrow\">RandomForestClassifier</label><div class=\"sk-toggleable__content\"><pre>RandomForestClassifier(n_estimators=20, n_jobs=-1, random_state=42)</pre></div></div></div></div></div></div></div></div></div></div>"
      ],
      "text/plain": [
       "GridSearchCV(cv=StratifiedKFold(n_splits=10, random_state=42, shuffle=True),\n",
       "             estimator=RandomForestClassifier(n_estimators=20, n_jobs=-1,\n",
       "                                              random_state=42),\n",
       "             n_jobs=-1,\n",
       "             param_grid={'max_depth': [9], 'max_features': [4],\n",
       "                         'min_samples_leaf': [1]},\n",
       "             verbose=1)"
      ]
     },
     "execution_count": 68,
     "metadata": {},
     "output_type": "execute_result"
    }
   ],
   "source": [
    "# Initialize the set of parameters for exhaustive search and fit \n",
    "parameters = {'max_features': [4], \n",
    "              'min_samples_leaf': [1], \n",
    "              'max_depth': [9]}\n",
    "rf = RandomForestClassifier(n_estimators=20, random_state=42, n_jobs=-1)\n",
    "gcv = GridSearchCV(rf, parameters, n_jobs=-1, cv=skf, verbose=1)\n",
    "gcv.fit(x_train, y_train)"
   ]
  },
  {
   "cell_type": "code",
   "execution_count": 69,
   "id": "6fb58f4f",
   "metadata": {},
   "outputs": [
    {
     "data": {
      "text/plain": [
       "0.7667910447761195"
      ]
     },
     "execution_count": 69,
     "metadata": {},
     "output_type": "execute_result"
    }
   ],
   "source": [
    "roc_auc_score(y_test, gcv.predict(x_test))"
   ]
  },
  {
   "cell_type": "code",
   "execution_count": 70,
   "id": "6eff1083",
   "metadata": {},
   "outputs": [
    {
     "data": {
      "text/plain": [
       "0.7835820895522388"
      ]
     },
     "execution_count": 70,
     "metadata": {},
     "output_type": "execute_result"
    }
   ],
   "source": [
    "recall_score(y_test, gcv.predict(x_test))"
   ]
  },
  {
   "cell_type": "code",
   "execution_count": 71,
   "id": "ff67af73",
   "metadata": {},
   "outputs": [
    {
     "name": "stdout",
     "output_type": "stream",
     "text": [
      "              precision    recall  f1-score   support\n",
      "\n",
      "           0       0.78      0.75      0.76       136\n",
      "           1       0.76      0.78      0.77       134\n",
      "\n",
      "    accuracy                           0.77       270\n",
      "   macro avg       0.77      0.77      0.77       270\n",
      "weighted avg       0.77      0.77      0.77       270\n",
      "\n"
     ]
    }
   ],
   "source": [
    "print(classification_report(y_test, gcv.predict(x_test)))"
   ]
  },
  {
   "cell_type": "code",
   "execution_count": 72,
   "id": "237e50a0",
   "metadata": {},
   "outputs": [
    {
     "name": "stdout",
     "output_type": "stream",
     "text": [
      "[[102  34]\n",
      " [ 29 105]]\n",
      "The values for Test Data are:\n",
      "Accuracy: 0.7666666666666667 ,Recall: 0.7835820895522388 , Specificity: 0.75 , False Positive Rate: 0.25 , Precision: 0.7553956834532374, F1 Score: 0.7692307692307693\n"
     ]
    }
   ],
   "source": [
    "confusion = metrics.confusion_matrix(y_test, gcv.predict(x_test))\n",
    "print(confusion)\n",
    "TP1 = confusion[1, 1]\n",
    "TN1 = confusion[0, 0]\n",
    "FP1 = confusion[0, 1]\n",
    "FN1 = confusion[1, 0]\n",
    "acc_val(TP1, TN1, FP1, FN1, 'Test Data')"
   ]
  },
  {
   "cell_type": "code",
   "execution_count": null,
   "id": "13f9278f",
   "metadata": {},
   "outputs": [],
   "source": []
  },
  {
   "cell_type": "code",
   "execution_count": null,
   "id": "722632a0",
   "metadata": {},
   "outputs": [],
   "source": []
  },
  {
   "cell_type": "code",
   "execution_count": null,
   "id": "82e69acc",
   "metadata": {},
   "outputs": [],
   "source": []
  }
 ],
 "metadata": {
  "kernelspec": {
   "display_name": "Python 3",
   "language": "python",
   "name": "python3"
  },
  "language_info": {
   "codemirror_mode": {
    "name": "ipython",
    "version": 3
   },
   "file_extension": ".py",
   "mimetype": "text/x-python",
   "name": "python",
   "nbconvert_exporter": "python",
   "pygments_lexer": "ipython3",
   "version": "3.8.8"
  }
 },
 "nbformat": 4,
 "nbformat_minor": 5
}
