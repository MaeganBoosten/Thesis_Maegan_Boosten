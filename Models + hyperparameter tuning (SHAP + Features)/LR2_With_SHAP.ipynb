{
 "cells": [
  {
   "cell_type": "code",
   "execution_count": 118,
   "id": "03e453ec",
   "metadata": {},
   "outputs": [],
   "source": [
    "import pandas as pd\n",
    "import numpy as np\n",
    "from sklearn import preprocessing\n",
    "import matplotlib.pyplot as plt \n",
    "plt.rc(\"font\", size=14)\n",
    "\n",
    "from sklearn.model_selection import RepeatedStratifiedKFold\n",
    "from sklearn import metrics\n",
    "from sklearn.metrics import roc_auc_score, recall_score, classification_report\n",
    "from sklearn.model_selection import StratifiedKFold, cross_val_score, cross_validate\n",
    "from sklearn.model_selection import GridSearchCV\n",
    "from sklearn.linear_model import LogisticRegression\n",
    "from sklearn.model_selection import train_test_split\n",
    "from sklearn.metrics import classification_report, confusion_matrix\n",
    "from collections import Counter\n",
    "from sklearn.metrics import roc_auc_score\n",
    "from sklearn.datasets import make_classification\n",
    "from imblearn.over_sampling import RandomOverSampler\n",
    "from sklearn.preprocessing import StandardScaler\n",
    "from pandas import DataFrame\n",
    "\n",
    "import seaborn as sns\n",
    "sns.set(style=\"white\")\n",
    "sns.set(style=\"whitegrid\", color_codes=True)"
   ]
  },
  {
   "cell_type": "code",
   "execution_count": 119,
   "id": "6dc5abb8",
   "metadata": {
    "scrolled": true
   },
   "outputs": [
    {
     "name": "stdout",
     "output_type": "stream",
     "text": [
      "     duration  credit_amount  intallment_rate  residence_since       age  \\\n",
      "0    0.256953       1.078480         0.918477        -0.765977 -0.751642   \n",
      "1   -0.240857      -0.237923         0.918477         1.046987  2.590552   \n",
      "2    0.505858      -0.248556         0.024147         0.140505 -1.279356   \n",
      "3    0.256953       1.168508        -0.870183        -0.765977 -1.279356   \n",
      "4    2.248194       1.165673         0.024147        -0.765977 -1.015499   \n",
      "..        ...            ...              ...              ...       ...   \n",
      "369  1.252574       1.757239        -0.870183        -0.765977 -0.839594   \n",
      "370 -0.738668      -0.877693         0.918477         1.046987  1.535122   \n",
      "371 -0.738668      -0.912429         0.918477        -0.765977  0.919455   \n",
      "372  0.256953      -0.728473         0.918477         1.046987  0.215835   \n",
      "373 -0.738668      -0.615760        -1.764514        -1.672459 -1.103451   \n",
      "\n",
      "     number_of_existcr  number_of_dependents  telephon   foreign  \\\n",
      "0             1.027079             -0.428290  1.214598 -0.196014   \n",
      "1             1.027079             -0.428290 -0.823318 -0.196014   \n",
      "2            -0.704926             -0.428290 -0.823318 -0.196014   \n",
      "3            -0.704926             -0.428290 -0.823318 -0.196014   \n",
      "4            -0.704926             -0.428290 -0.823318 -0.196014   \n",
      "..                 ...                   ...       ...       ...   \n",
      "369          -0.704926              2.334869 -0.823318 -0.196014   \n",
      "370          -0.704926             -0.428290 -0.823318 -0.196014   \n",
      "371           1.027079             -0.428290  1.214598 -0.196014   \n",
      "372           1.027079              2.334869 -0.823318 -0.196014   \n",
      "373          -0.704926             -0.428290 -0.823318 -0.196014   \n",
      "\n",
      "     account_bal_neg_bal  ...  SHAP concurrent_credits_A141  \\\n",
      "0              -0.614337  ...                      0.064868   \n",
      "1               1.627770  ...                     -0.014842   \n",
      "2              -0.614337  ...                     -0.015520   \n",
      "3               1.627770  ...                     -0.007105   \n",
      "4              -0.614337  ...                     -0.013303   \n",
      "..                   ...  ...                           ...   \n",
      "369             1.627770  ...                     -0.011968   \n",
      "370             1.627770  ...                     -0.011701   \n",
      "371             1.627770  ...                      0.063789   \n",
      "372            -0.614337  ...                      0.084808   \n",
      "373            -0.614337  ...                     -0.015361   \n",
      "\n",
      "     SHAP concurrent_credits_A142  SHAP concurrent_credits_A143  \\\n",
      "0                       -0.001557                      0.056772   \n",
      "1                       -0.001884                     -0.018032   \n",
      "2                       -0.001938                     -0.018546   \n",
      "3                        0.024076                      0.044795   \n",
      "4                       -0.001797                     -0.015350   \n",
      "..                            ...                           ...   \n",
      "369                     -0.001038                     -0.015620   \n",
      "370                     -0.000672                     -0.014204   \n",
      "371                      0.000652                      0.054003   \n",
      "372                     -0.001589                      0.072790   \n",
      "373                     -0.002252                     -0.017984   \n",
      "\n",
      "     SHAP type_of_housing_A151  SHAP type_of_housing_A152  \\\n",
      "0                    -0.004865                  -0.003527   \n",
      "1                    -0.006233                   0.012378   \n",
      "2                     0.028367                   0.012533   \n",
      "3                    -0.003348                  -0.004745   \n",
      "4                    -0.005977                  -0.004934   \n",
      "..                         ...                        ...   \n",
      "369                  -0.006660                  -0.004817   \n",
      "370                  -0.005147                  -0.004788   \n",
      "371                  -0.003713                  -0.002757   \n",
      "372                  -0.006283                  -0.004776   \n",
      "373                   0.027776                   0.012132   \n",
      "\n",
      "     SHAP type_of_housing_A153  SHAP job_highly_skilled  SHAP job_skilled  \\\n",
      "0                     0.002281                 0.027455          0.002194   \n",
      "1                    -0.013266                -0.005748         -0.001417   \n",
      "2                     0.001546                -0.006234         -0.001911   \n",
      "3                     0.000936                -0.003342          0.003468   \n",
      "4                     0.001117                -0.005031         -0.001292   \n",
      "..                         ...                      ...               ...   \n",
      "369                   0.001314                -0.005072         -0.000762   \n",
      "370                   0.002182                -0.003584         -0.002065   \n",
      "371                   0.001086                -0.003312         -0.001956   \n",
      "372                   0.001733                -0.006629         -0.001228   \n",
      "373                   0.001857                -0.005823         -0.001917   \n",
      "\n",
      "     SHAP job_unskilled  False Positive  \n",
      "0              0.002499               1  \n",
      "1              0.005542               0  \n",
      "2              0.005920               0  \n",
      "3             -0.010243               1  \n",
      "4              0.005682               0  \n",
      "..                  ...             ...  \n",
      "369            0.004899               0  \n",
      "370            0.004997               0  \n",
      "371            0.003175               0  \n",
      "372            0.005678               0  \n",
      "373            0.005488               0  \n",
      "\n",
      "[374 rows x 115 columns]\n"
     ]
    }
   ],
   "source": [
    "df = pd.read_excel (r'/Users/MaeganBoosten/Thesis_Project/Final/Original_SHAP.xlsx')\n",
    "print (df)"
   ]
  },
  {
   "cell_type": "code",
   "execution_count": 120,
   "id": "94d9f03a",
   "metadata": {},
   "outputs": [],
   "source": [
    "#Logistic regression "
   ]
  },
  {
   "cell_type": "code",
   "execution_count": 121,
   "id": "1161a014",
   "metadata": {},
   "outputs": [],
   "source": [
    "from sklearn.model_selection import train_test_split\n",
    "from sklearn import model_selection"
   ]
  },
  {
   "cell_type": "code",
   "execution_count": 122,
   "id": "a477e3c6",
   "metadata": {},
   "outputs": [],
   "source": [
    "X = df.drop('False Positive', axis=1)\n",
    "y = df['False Positive'] "
   ]
  },
  {
   "cell_type": "code",
   "execution_count": 123,
   "id": "2e7d6bde",
   "metadata": {},
   "outputs": [
    {
     "name": "stdout",
     "output_type": "stream",
     "text": [
      "(374, 114) (374,)\n"
     ]
    }
   ],
   "source": [
    "print(X.shape, y.shape)"
   ]
  },
  {
   "cell_type": "code",
   "execution_count": 124,
   "id": "4e9908f9",
   "metadata": {},
   "outputs": [],
   "source": [
    "#Oversampling"
   ]
  },
  {
   "cell_type": "code",
   "execution_count": 125,
   "id": "37d3b09a",
   "metadata": {},
   "outputs": [
    {
     "name": "stdout",
     "output_type": "stream",
     "text": [
      "Counter({0: 270, 1: 104})\n",
      "Counter({1: 270, 0: 270})\n"
     ]
    }
   ],
   "source": [
    "# summarize class distribution\n",
    "print(Counter(y))\n",
    "# define oversampling strategy\n",
    "oversample = RandomOverSampler(sampling_strategy='minority')\n",
    "# fit and apply the transform\n",
    "X_over, y_over = oversample.fit_resample(X, y)\n",
    "# summarize class distribution\n",
    "print(Counter(y_over))"
   ]
  },
  {
   "cell_type": "code",
   "execution_count": 126,
   "id": "5adea3e0",
   "metadata": {},
   "outputs": [],
   "source": [
    "from sklearn.linear_model import LogisticRegression\n",
    "from sklearn import metrics\n",
    "import statsmodels.formula.api as smf\n",
    "import statsmodels.api as sm"
   ]
  },
  {
   "cell_type": "code",
   "execution_count": 90,
   "id": "f95088e2",
   "metadata": {},
   "outputs": [],
   "source": [
    "X_train, X_test, y_train, y_test = model_selection.train_test_split(X_over, y_over, test_size=0.5, random_state=42)"
   ]
  },
  {
   "cell_type": "code",
   "execution_count": 127,
   "id": "da5b4375",
   "metadata": {},
   "outputs": [
    {
     "data": {
      "text/plain": [
       "136"
      ]
     },
     "execution_count": 127,
     "metadata": {},
     "output_type": "execute_result"
    }
   ],
   "source": [
    "sum(y_train)"
   ]
  },
  {
   "cell_type": "code",
   "execution_count": 128,
   "id": "639d74e8",
   "metadata": {},
   "outputs": [
    {
     "data": {
      "text/plain": [
       "270"
      ]
     },
     "execution_count": 128,
     "metadata": {},
     "output_type": "execute_result"
    }
   ],
   "source": [
    "len(y_train)"
   ]
  },
  {
   "cell_type": "code",
   "execution_count": 117,
   "id": "6523a161",
   "metadata": {},
   "outputs": [
    {
     "name": "stdout",
     "output_type": "stream",
     "text": [
      "(270, 114) (270, 114)\n"
     ]
    }
   ],
   "source": [
    "print(X_train.shape, X_test.shape)"
   ]
  },
  {
   "cell_type": "code",
   "execution_count": null,
   "id": "f0c2d49d",
   "metadata": {},
   "outputs": [],
   "source": []
  },
  {
   "cell_type": "code",
   "execution_count": 91,
   "id": "30d46b0c",
   "metadata": {},
   "outputs": [],
   "source": [
    "# instantiate model\n",
    "logreg = LogisticRegression(random_state=42, solver = 'newton-cg')"
   ]
  },
  {
   "cell_type": "code",
   "execution_count": 92,
   "id": "3b75f32a",
   "metadata": {},
   "outputs": [
    {
     "data": {
      "text/html": [
       "<style>#sk-container-id-5 {color: black;background-color: white;}#sk-container-id-5 pre{padding: 0;}#sk-container-id-5 div.sk-toggleable {background-color: white;}#sk-container-id-5 label.sk-toggleable__label {cursor: pointer;display: block;width: 100%;margin-bottom: 0;padding: 0.3em;box-sizing: border-box;text-align: center;}#sk-container-id-5 label.sk-toggleable__label-arrow:before {content: \"▸\";float: left;margin-right: 0.25em;color: #696969;}#sk-container-id-5 label.sk-toggleable__label-arrow:hover:before {color: black;}#sk-container-id-5 div.sk-estimator:hover label.sk-toggleable__label-arrow:before {color: black;}#sk-container-id-5 div.sk-toggleable__content {max-height: 0;max-width: 0;overflow: hidden;text-align: left;background-color: #f0f8ff;}#sk-container-id-5 div.sk-toggleable__content pre {margin: 0.2em;color: black;border-radius: 0.25em;background-color: #f0f8ff;}#sk-container-id-5 input.sk-toggleable__control:checked~div.sk-toggleable__content {max-height: 200px;max-width: 100%;overflow: auto;}#sk-container-id-5 input.sk-toggleable__control:checked~label.sk-toggleable__label-arrow:before {content: \"▾\";}#sk-container-id-5 div.sk-estimator input.sk-toggleable__control:checked~label.sk-toggleable__label {background-color: #d4ebff;}#sk-container-id-5 div.sk-label input.sk-toggleable__control:checked~label.sk-toggleable__label {background-color: #d4ebff;}#sk-container-id-5 input.sk-hidden--visually {border: 0;clip: rect(1px 1px 1px 1px);clip: rect(1px, 1px, 1px, 1px);height: 1px;margin: -1px;overflow: hidden;padding: 0;position: absolute;width: 1px;}#sk-container-id-5 div.sk-estimator {font-family: monospace;background-color: #f0f8ff;border: 1px dotted black;border-radius: 0.25em;box-sizing: border-box;margin-bottom: 0.5em;}#sk-container-id-5 div.sk-estimator:hover {background-color: #d4ebff;}#sk-container-id-5 div.sk-parallel-item::after {content: \"\";width: 100%;border-bottom: 1px solid gray;flex-grow: 1;}#sk-container-id-5 div.sk-label:hover label.sk-toggleable__label {background-color: #d4ebff;}#sk-container-id-5 div.sk-serial::before {content: \"\";position: absolute;border-left: 1px solid gray;box-sizing: border-box;top: 0;bottom: 0;left: 50%;z-index: 0;}#sk-container-id-5 div.sk-serial {display: flex;flex-direction: column;align-items: center;background-color: white;padding-right: 0.2em;padding-left: 0.2em;position: relative;}#sk-container-id-5 div.sk-item {position: relative;z-index: 1;}#sk-container-id-5 div.sk-parallel {display: flex;align-items: stretch;justify-content: center;background-color: white;position: relative;}#sk-container-id-5 div.sk-item::before, #sk-container-id-5 div.sk-parallel-item::before {content: \"\";position: absolute;border-left: 1px solid gray;box-sizing: border-box;top: 0;bottom: 0;left: 50%;z-index: -1;}#sk-container-id-5 div.sk-parallel-item {display: flex;flex-direction: column;z-index: 1;position: relative;background-color: white;}#sk-container-id-5 div.sk-parallel-item:first-child::after {align-self: flex-end;width: 50%;}#sk-container-id-5 div.sk-parallel-item:last-child::after {align-self: flex-start;width: 50%;}#sk-container-id-5 div.sk-parallel-item:only-child::after {width: 0;}#sk-container-id-5 div.sk-dashed-wrapped {border: 1px dashed gray;margin: 0 0.4em 0.5em 0.4em;box-sizing: border-box;padding-bottom: 0.4em;background-color: white;}#sk-container-id-5 div.sk-label label {font-family: monospace;font-weight: bold;display: inline-block;line-height: 1.2em;}#sk-container-id-5 div.sk-label-container {text-align: center;}#sk-container-id-5 div.sk-container {/* jupyter's `normalize.less` sets `[hidden] { display: none; }` but bootstrap.min.css set `[hidden] { display: none !important; }` so we also need the `!important` here to be able to override the default hidden behavior on the sphinx rendered scikit-learn.org. See: https://github.com/scikit-learn/scikit-learn/issues/21755 */display: inline-block !important;position: relative;}#sk-container-id-5 div.sk-text-repr-fallback {display: none;}</style><div id=\"sk-container-id-5\" class=\"sk-top-container\"><div class=\"sk-text-repr-fallback\"><pre>LogisticRegression(random_state=42, solver=&#x27;newton-cg&#x27;)</pre><b>In a Jupyter environment, please rerun this cell to show the HTML representation or trust the notebook. <br />On GitHub, the HTML representation is unable to render, please try loading this page with nbviewer.org.</b></div><div class=\"sk-container\" hidden><div class=\"sk-item\"><div class=\"sk-estimator sk-toggleable\"><input class=\"sk-toggleable__control sk-hidden--visually\" id=\"sk-estimator-id-5\" type=\"checkbox\" checked><label for=\"sk-estimator-id-5\" class=\"sk-toggleable__label sk-toggleable__label-arrow\">LogisticRegression</label><div class=\"sk-toggleable__content\"><pre>LogisticRegression(random_state=42, solver=&#x27;newton-cg&#x27;)</pre></div></div></div></div></div>"
      ],
      "text/plain": [
       "LogisticRegression(random_state=42, solver='newton-cg')"
      ]
     },
     "execution_count": 92,
     "metadata": {},
     "output_type": "execute_result"
    }
   ],
   "source": [
    "# fit model\n",
    "logreg.fit(X_train, y_train)"
   ]
  },
  {
   "cell_type": "code",
   "execution_count": 93,
   "id": "04f472c7",
   "metadata": {},
   "outputs": [],
   "source": [
    "y_pred_train = logreg.predict(X_train)\n",
    "y_pred_class = logreg.predict(X_test)"
   ]
  },
  {
   "cell_type": "code",
   "execution_count": 94,
   "id": "bfe07645",
   "metadata": {},
   "outputs": [
    {
     "data": {
      "text/plain": [
       "array([1, 0, 1, 1, 1, 1, 1, 1, 1, 1, 0, 0, 1, 1, 0, 0, 0, 1, 1, 0, 1, 0,\n",
       "       0, 0, 0, 1, 0, 0, 0, 0, 0, 0, 1, 1, 0, 1, 1, 1, 1, 0, 0, 0, 0, 1,\n",
       "       0, 0, 1, 1, 1, 0, 1, 1, 1, 1, 1, 1, 0, 1, 0, 1, 0, 0, 0, 1, 1, 1,\n",
       "       0, 0, 0, 0, 0, 1, 0, 0, 0, 1, 0, 1, 0, 0, 0, 1, 0, 1, 1, 0, 0, 0,\n",
       "       1, 1, 0, 1, 0, 0, 0, 0, 0, 1, 0, 1, 1, 0, 1, 1, 0, 0, 0, 1, 0, 1,\n",
       "       1, 1, 1, 1, 0, 1, 0, 0, 1, 0, 1, 1, 1, 0, 1, 1, 1, 0, 1, 1, 1, 0,\n",
       "       0, 1, 0, 1, 1, 1, 0, 0, 1, 0, 0, 1, 0, 1, 1, 1, 1, 0, 1, 0, 1, 1,\n",
       "       0, 1, 0, 0, 0, 1, 0, 1, 1, 1, 0, 0, 1, 0, 0, 1, 0, 1, 1, 1, 1, 0,\n",
       "       0, 1, 0, 0, 1, 0, 1, 1, 0, 1, 0, 1, 1, 1, 1, 0, 0, 1, 0, 0, 1, 0,\n",
       "       0, 0, 1, 1, 1, 0, 0, 0, 0, 1, 1, 1, 0, 0, 0, 0, 0, 1, 0, 0, 1, 1,\n",
       "       0, 0, 0, 1, 1, 1, 0, 0, 1, 0, 1, 1, 0, 1, 0, 1, 1, 0, 1, 0, 1, 1,\n",
       "       1, 1, 1, 1, 0, 0, 0, 1, 1, 0, 1, 1, 1, 0, 1, 1, 1, 0, 1, 0, 0, 0,\n",
       "       1, 1, 1, 0, 1, 0])"
      ]
     },
     "execution_count": 94,
     "metadata": {},
     "output_type": "execute_result"
    }
   ],
   "source": [
    "# predicting \n",
    "y_pred_class"
   ]
  },
  {
   "cell_type": "code",
   "execution_count": 95,
   "id": "7dc814d5",
   "metadata": {},
   "outputs": [
    {
     "data": {
      "text/plain": [
       "136"
      ]
     },
     "execution_count": 95,
     "metadata": {},
     "output_type": "execute_result"
    }
   ],
   "source": [
    "sum(y_train)"
   ]
  },
  {
   "cell_type": "code",
   "execution_count": 96,
   "id": "55cbbd49",
   "metadata": {},
   "outputs": [
    {
     "data": {
      "text/plain": [
       "134"
      ]
     },
     "execution_count": 96,
     "metadata": {},
     "output_type": "execute_result"
    }
   ],
   "source": [
    "sum(y_test)"
   ]
  },
  {
   "cell_type": "code",
   "execution_count": 97,
   "id": "65946fa6",
   "metadata": {},
   "outputs": [
    {
     "data": {
      "text/plain": [
       "array([[3.65112857e-01, 6.34887143e-01],\n",
       "       [9.62762351e-01, 3.72376487e-02],\n",
       "       [1.33407001e-01, 8.66592999e-01],\n",
       "       [9.80240157e-02, 9.01975984e-01],\n",
       "       [2.17729712e-02, 9.78227029e-01],\n",
       "       [2.78702860e-01, 7.21297140e-01],\n",
       "       [8.04518879e-02, 9.19548112e-01],\n",
       "       [3.16480853e-01, 6.83519147e-01],\n",
       "       [1.94502675e-01, 8.05497325e-01],\n",
       "       [8.40772372e-02, 9.15922763e-01],\n",
       "       [7.92741402e-01, 2.07258598e-01],\n",
       "       [8.40210248e-01, 1.59789752e-01],\n",
       "       [4.62784677e-02, 9.53721532e-01],\n",
       "       [4.74197558e-01, 5.25802442e-01],\n",
       "       [7.28810245e-01, 2.71189755e-01],\n",
       "       [9.58703818e-01, 4.12961816e-02],\n",
       "       [9.00088565e-01, 9.99114349e-02],\n",
       "       [3.50946265e-01, 6.49053735e-01],\n",
       "       [2.27344338e-01, 7.72655662e-01],\n",
       "       [6.33980662e-01, 3.66019338e-01],\n",
       "       [2.49170652e-01, 7.50829348e-01],\n",
       "       [9.24368975e-01, 7.56310253e-02],\n",
       "       [9.77999126e-01, 2.20008743e-02],\n",
       "       [6.25491881e-01, 3.74508119e-01],\n",
       "       [6.19314550e-01, 3.80685450e-01],\n",
       "       [4.62557464e-01, 5.37442536e-01],\n",
       "       [7.09663155e-01, 2.90336845e-01],\n",
       "       [9.99077302e-01, 9.22698299e-04],\n",
       "       [8.29269597e-01, 1.70730403e-01],\n",
       "       [9.62752917e-01, 3.72470825e-02],\n",
       "       [9.71881597e-01, 2.81184030e-02],\n",
       "       [9.00088565e-01, 9.99114349e-02],\n",
       "       [7.56927381e-02, 9.24307262e-01],\n",
       "       [1.66224880e-01, 8.33775120e-01],\n",
       "       [8.50374313e-01, 1.49625687e-01],\n",
       "       [4.47944699e-01, 5.52055301e-01],\n",
       "       [4.55433002e-02, 9.54456700e-01],\n",
       "       [4.07476673e-01, 5.92523327e-01],\n",
       "       [1.46787120e-01, 8.53212880e-01],\n",
       "       [6.52322404e-01, 3.47677596e-01],\n",
       "       [9.47390342e-01, 5.26096579e-02],\n",
       "       [7.56551808e-01, 2.43448192e-01],\n",
       "       [7.37020081e-01, 2.62979919e-01],\n",
       "       [8.81868922e-02, 9.11813108e-01],\n",
       "       [8.54286894e-01, 1.45713106e-01],\n",
       "       [5.66500785e-01, 4.33499215e-01],\n",
       "       [1.51382939e-01, 8.48617061e-01],\n",
       "       [5.52444048e-03, 9.94475560e-01],\n",
       "       [7.92541677e-03, 9.92074583e-01],\n",
       "       [5.68744143e-01, 4.31255857e-01],\n",
       "       [1.95579326e-01, 8.04420674e-01],\n",
       "       [5.52444048e-03, 9.94475560e-01],\n",
       "       [2.46385561e-01, 7.53614439e-01],\n",
       "       [2.51242996e-01, 7.48757004e-01],\n",
       "       [1.33407001e-01, 8.66592999e-01],\n",
       "       [3.88014581e-02, 9.61198542e-01],\n",
       "       [9.76154809e-01, 2.38451909e-02],\n",
       "       [6.50898310e-03, 9.93491017e-01],\n",
       "       [5.50719469e-01, 4.49280531e-01],\n",
       "       [2.10868082e-01, 7.89131918e-01],\n",
       "       [5.60151503e-01, 4.39848497e-01],\n",
       "       [6.98051126e-01, 3.01948874e-01],\n",
       "       [9.58701920e-01, 4.12980803e-02],\n",
       "       [9.72075011e-02, 9.02792499e-01],\n",
       "       [4.24552492e-01, 5.75447508e-01],\n",
       "       [9.87068259e-02, 9.01293174e-01],\n",
       "       [8.74257818e-01, 1.25742182e-01],\n",
       "       [7.98940703e-01, 2.01059297e-01],\n",
       "       [9.59170487e-01, 4.08295133e-02],\n",
       "       [8.60177436e-01, 1.39822564e-01],\n",
       "       [7.87719381e-01, 2.12280619e-01],\n",
       "       [4.62571876e-01, 5.37428124e-01],\n",
       "       [9.82158349e-01, 1.78416511e-02],\n",
       "       [7.92717532e-01, 2.07282468e-01],\n",
       "       [7.74359396e-01, 2.25640604e-01],\n",
       "       [4.48736215e-01, 5.51263785e-01],\n",
       "       [6.59199647e-01, 3.40800353e-01],\n",
       "       [4.09448118e-01, 5.90551882e-01],\n",
       "       [8.57865027e-01, 1.42134973e-01],\n",
       "       [5.42830822e-01, 4.57169178e-01],\n",
       "       [8.84918165e-01, 1.15081835e-01],\n",
       "       [8.40772372e-02, 9.15922763e-01],\n",
       "       [7.75694408e-01, 2.24305592e-01],\n",
       "       [1.47588552e-01, 8.52411448e-01],\n",
       "       [1.57547470e-01, 8.42452530e-01],\n",
       "       [7.59162282e-01, 2.40837718e-01],\n",
       "       [8.74257818e-01, 1.25742182e-01],\n",
       "       [6.72464374e-01, 3.27535626e-01],\n",
       "       [4.68853794e-01, 5.31146206e-01],\n",
       "       [4.48751948e-01, 5.51248052e-01],\n",
       "       [9.58703034e-01, 4.12969663e-02],\n",
       "       [5.05992951e-02, 9.49400705e-01],\n",
       "       [7.88220004e-01, 2.11779996e-01],\n",
       "       [6.59217802e-01, 3.40782198e-01],\n",
       "       [7.56551808e-01, 2.43448192e-01],\n",
       "       [9.02856167e-01, 9.71438328e-02],\n",
       "       [5.68744143e-01, 4.31255857e-01],\n",
       "       [2.33467054e-01, 7.66532946e-01],\n",
       "       [9.97371109e-01, 2.62889124e-03],\n",
       "       [7.92541677e-03, 9.92074583e-01],\n",
       "       [4.19681067e-01, 5.80318933e-01],\n",
       "       [8.25762822e-01, 1.74237178e-01],\n",
       "       [1.30884291e-01, 8.69115709e-01],\n",
       "       [9.87068259e-02, 9.01293174e-01],\n",
       "       [5.53116141e-01, 4.46883859e-01],\n",
       "       [9.97029374e-01, 2.97062609e-03],\n",
       "       [6.48627959e-01, 3.51372041e-01],\n",
       "       [4.47944699e-01, 5.52055301e-01],\n",
       "       [5.83436250e-01, 4.16563750e-01],\n",
       "       [4.04227214e-03, 9.95957728e-01],\n",
       "       [4.55433002e-02, 9.54456700e-01],\n",
       "       [4.62784677e-02, 9.53721532e-01],\n",
       "       [1.33407001e-01, 8.66592999e-01],\n",
       "       [8.22040947e-02, 9.17795905e-01],\n",
       "       [7.97998478e-01, 2.02001522e-01],\n",
       "       [1.45206501e-02, 9.85479350e-01],\n",
       "       [8.26523603e-01, 1.73476397e-01],\n",
       "       [8.67458352e-01, 1.32541648e-01],\n",
       "       [4.27129588e-01, 5.72870412e-01],\n",
       "       [7.84838642e-01, 2.15161358e-01],\n",
       "       [4.64964435e-01, 5.35035565e-01],\n",
       "       [3.16480853e-01, 6.83519147e-01],\n",
       "       [3.44161648e-01, 6.55838352e-01],\n",
       "       [9.83036639e-01, 1.69633607e-02],\n",
       "       [4.50615064e-01, 5.49384936e-01],\n",
       "       [4.30373649e-01, 5.69626351e-01],\n",
       "       [1.33407001e-01, 8.66592999e-01],\n",
       "       [7.92353526e-01, 2.07646474e-01],\n",
       "       [4.62553047e-01, 5.37446953e-01],\n",
       "       [2.42000512e-01, 7.57999488e-01],\n",
       "       [2.12446956e-01, 7.87553044e-01],\n",
       "       [7.56551808e-01, 2.43448192e-01],\n",
       "       [9.00009331e-01, 9.99906690e-02],\n",
       "       [8.52421485e-04, 9.99147579e-01],\n",
       "       [8.40277282e-01, 1.59722718e-01],\n",
       "       [2.26539495e-01, 7.73460505e-01],\n",
       "       [6.32509271e-02, 9.36749073e-01],\n",
       "       [3.16480853e-01, 6.83519147e-01],\n",
       "       [9.72847790e-01, 2.71522104e-02],\n",
       "       [9.59170497e-01, 4.08295035e-02],\n",
       "       [2.19971942e-01, 7.80028058e-01],\n",
       "       [6.52758617e-01, 3.47241383e-01],\n",
       "       [6.38321114e-01, 3.61678886e-01],\n",
       "       [2.03098315e-01, 7.96901685e-01],\n",
       "       [8.67458352e-01, 1.32541648e-01],\n",
       "       [1.46876341e-01, 8.53123659e-01],\n",
       "       [3.39025115e-01, 6.60974885e-01],\n",
       "       [1.22324279e-01, 8.77675721e-01],\n",
       "       [3.76796788e-01, 6.23203212e-01],\n",
       "       [7.82961544e-01, 2.17038456e-01],\n",
       "       [3.90243501e-01, 6.09756499e-01],\n",
       "       [5.51287308e-01, 4.48712692e-01],\n",
       "       [1.30787957e-01, 8.69212043e-01],\n",
       "       [4.51110587e-01, 5.48889413e-01],\n",
       "       [6.51784031e-01, 3.48215969e-01],\n",
       "       [4.23162425e-01, 5.76837575e-01],\n",
       "       [9.89858928e-01, 1.01410721e-02],\n",
       "       [8.60347027e-01, 1.39652973e-01],\n",
       "       [9.93217099e-01, 6.78290124e-03],\n",
       "       [1.21134934e-01, 8.78865066e-01],\n",
       "       [9.62763070e-01, 3.72369298e-02],\n",
       "       [3.44161648e-01, 6.55838352e-01],\n",
       "       [2.15103430e-01, 7.84896570e-01],\n",
       "       [7.13729342e-02, 9.28627066e-01],\n",
       "       [7.63478591e-01, 2.36521409e-01],\n",
       "       [9.97674530e-01, 2.32546953e-03],\n",
       "       [4.56869045e-01, 5.43130955e-01],\n",
       "       [5.79476341e-01, 4.20523659e-01],\n",
       "       [6.06770170e-01, 3.93229830e-01],\n",
       "       [4.30373649e-01, 5.69626351e-01],\n",
       "       [6.79911273e-01, 3.20088727e-01],\n",
       "       [9.72075011e-02, 9.02792499e-01],\n",
       "       [3.39756546e-01, 6.60243454e-01],\n",
       "       [2.33467054e-01, 7.66532946e-01],\n",
       "       [2.15103430e-01, 7.84896570e-01],\n",
       "       [8.03683087e-01, 1.96316913e-01],\n",
       "       [9.67127455e-01, 3.28725449e-02],\n",
       "       [2.67063852e-02, 9.73293615e-01],\n",
       "       [7.45623883e-01, 2.54376117e-01],\n",
       "       [6.83160379e-01, 3.16839621e-01],\n",
       "       [4.44299997e-01, 5.55700003e-01],\n",
       "       [7.13888467e-01, 2.86111533e-01],\n",
       "       [3.92915749e-01, 6.07084251e-01],\n",
       "       [3.64640184e-01, 6.35359816e-01],\n",
       "       [5.83426235e-01, 4.16573765e-01],\n",
       "       [2.15672896e-01, 7.84327104e-01],\n",
       "       [9.52818728e-01, 4.71812716e-02],\n",
       "       [4.94301795e-01, 5.05698205e-01],\n",
       "       [1.66224880e-01, 8.33775120e-01],\n",
       "       [2.01784022e-01, 7.98215978e-01],\n",
       "       [4.47944699e-01, 5.52055301e-01],\n",
       "       [6.19314550e-01, 3.80685450e-01],\n",
       "       [7.77484037e-01, 2.22515963e-01],\n",
       "       [1.46783688e-01, 8.53216312e-01],\n",
       "       [7.56551808e-01, 2.43448192e-01],\n",
       "       [8.52694025e-01, 1.47305975e-01],\n",
       "       [1.70344921e-01, 8.29655079e-01],\n",
       "       [9.47824539e-01, 5.21754614e-02],\n",
       "       [9.61149524e-01, 3.88504758e-02],\n",
       "       [9.58573423e-01, 4.14265773e-02],\n",
       "       [2.15672896e-01, 7.84327104e-01],\n",
       "       [9.87068259e-02, 9.01293174e-01],\n",
       "       [7.72244139e-02, 9.22775586e-01],\n",
       "       [9.58102640e-01, 4.18973605e-02],\n",
       "       [5.00063447e-01, 4.99936553e-01],\n",
       "       [8.40243677e-01, 1.59756323e-01],\n",
       "       [8.60324687e-01, 1.39675313e-01],\n",
       "       [1.72262340e-01, 8.27737660e-01],\n",
       "       [7.92541677e-03, 9.92074583e-01],\n",
       "       [6.50898310e-03, 9.93491017e-01],\n",
       "       [6.52312673e-01, 3.47687327e-01],\n",
       "       [5.60915563e-01, 4.39084437e-01],\n",
       "       [5.23717833e-01, 4.76282167e-01],\n",
       "       [8.27057772e-01, 1.72942228e-01],\n",
       "       [8.63954501e-01, 1.36045499e-01],\n",
       "       [2.79811151e-01, 7.20188849e-01],\n",
       "       [9.72851808e-01, 2.71481920e-02],\n",
       "       [9.58573423e-01, 4.14265773e-02],\n",
       "       [2.67063852e-02, 9.73293615e-01],\n",
       "       [1.57547470e-01, 8.42452530e-01],\n",
       "       [9.86937695e-01, 1.30623054e-02],\n",
       "       [7.10494751e-01, 2.89505249e-01],\n",
       "       [7.98940703e-01, 2.01059297e-01],\n",
       "       [2.37845986e-01, 7.62154014e-01],\n",
       "       [4.19688887e-01, 5.80311113e-01],\n",
       "       [9.87068259e-02, 9.01293174e-01],\n",
       "       [8.26523603e-01, 1.73476397e-01],\n",
       "       [8.52686978e-01, 1.47313022e-01],\n",
       "       [4.07472311e-01, 5.92527689e-01],\n",
       "       [9.07419947e-01, 9.25800534e-02],\n",
       "       [2.39486327e-01, 7.60513673e-01],\n",
       "       [7.13729342e-02, 9.28627066e-01],\n",
       "       [6.98051126e-01, 3.01948874e-01],\n",
       "       [3.44161648e-01, 6.55838352e-01],\n",
       "       [7.56551808e-01, 2.43448192e-01],\n",
       "       [1.36149053e-01, 8.63850947e-01],\n",
       "       [2.12429747e-01, 7.87570253e-01],\n",
       "       [5.94323832e-01, 4.05676168e-01],\n",
       "       [3.16480853e-01, 6.83519147e-01],\n",
       "       [9.59167019e-01, 4.08329810e-02],\n",
       "       [8.22197358e-02, 9.17780264e-01],\n",
       "       [5.52444048e-03, 9.94475560e-01],\n",
       "       [4.64964435e-01, 5.35035565e-01],\n",
       "       [2.46385561e-01, 7.53614439e-01],\n",
       "       [5.42527935e-02, 9.45747206e-01],\n",
       "       [4.93901417e-01, 5.06098583e-01],\n",
       "       [7.46357500e-01, 2.53642500e-01],\n",
       "       [8.99992740e-01, 1.00007260e-01],\n",
       "       [5.18355223e-01, 4.81644777e-01],\n",
       "       [4.50615064e-01, 5.49384936e-01],\n",
       "       [2.11063695e-02, 9.78893630e-01],\n",
       "       [9.61813366e-01, 3.81866344e-02],\n",
       "       [3.64601008e-01, 6.35398992e-01],\n",
       "       [2.42027744e-01, 7.57972256e-01],\n",
       "       [1.70344921e-01, 8.29655079e-01],\n",
       "       [7.72562996e-01, 2.27437004e-01],\n",
       "       [1.89305343e-01, 8.10694657e-01],\n",
       "       [2.41962508e-01, 7.58037492e-01],\n",
       "       [3.92915749e-01, 6.07084251e-01],\n",
       "       [5.42830822e-01, 4.57169178e-01],\n",
       "       [1.70344921e-01, 8.29655079e-01],\n",
       "       [5.60347982e-01, 4.39652018e-01],\n",
       "       [9.99077061e-01, 9.22939353e-04],\n",
       "       [5.13806849e-01, 4.86193151e-01],\n",
       "       [1.30787957e-01, 8.69212043e-01],\n",
       "       [5.29915707e-02, 9.47008429e-01],\n",
       "       [3.02269169e-01, 6.97730831e-01],\n",
       "       [9.61152437e-01, 3.88475627e-02],\n",
       "       [3.16480853e-01, 6.83519147e-01],\n",
       "       [9.71876161e-01, 2.81238391e-02]])"
      ]
     },
     "execution_count": 97,
     "metadata": {},
     "output_type": "execute_result"
    }
   ],
   "source": [
    "logreg.predict_proba(X_test)"
   ]
  },
  {
   "cell_type": "code",
   "execution_count": 98,
   "id": "1db65eb5",
   "metadata": {},
   "outputs": [],
   "source": [
    "def acc_val(TP, TN, FP, FN, data):    \n",
    "    accuracy = (TP + TN) / float(TP + TN + FP + FN)\n",
    "    recall = TP / float(FN + TP)\n",
    "    specificity = TN / (TN + FP)\n",
    "    false_positive_rate = FP / float(TN + FP)\n",
    "    precision = TP / float(TP + FP)\n",
    "    F1 = 2 * (precision * recall) / (precision + recall)\n",
    "    print('The values for {} are:'.format(data))\n",
    "    print('Accuracy: {} ,Recall: {} , Specificity: {} , False Positive Rate: {} , Precision: {}, F1 Score: {}'.format(accuracy, recall, specificity, false_positive_rate,\n",
    "                                                                                                                   precision, F1))"
   ]
  },
  {
   "cell_type": "code",
   "execution_count": 99,
   "id": "7682372d",
   "metadata": {},
   "outputs": [
    {
     "name": "stdout",
     "output_type": "stream",
     "text": [
      "[[87 49]\n",
      " [43 91]]\n",
      "The values for Test Data are:\n",
      "Accuracy: 0.6592592592592592 ,Recall: 0.6791044776119403 , Specificity: 0.6397058823529411 , False Positive Rate: 0.3602941176470588 , Precision: 0.65, F1 Score: 0.6642335766423357\n"
     ]
    }
   ],
   "source": [
    "# test data \n",
    "confusion = metrics.confusion_matrix(y_test, y_pred_class)\n",
    "print(confusion)\n",
    "TP1 = confusion[1, 1]\n",
    "TN1 = confusion[0, 0]\n",
    "FP1 = confusion[0, 1]\n",
    "FN1 = confusion[1, 0]\n",
    "acc_val(TP1, TN1, FP1, FN1, 'Test Data')"
   ]
  },
  {
   "cell_type": "code",
   "execution_count": 100,
   "id": "7caca53d",
   "metadata": {},
   "outputs": [
    {
     "name": "stdout",
     "output_type": "stream",
     "text": [
      "[[106  28]\n",
      " [ 31 105]]\n",
      "The values for Train Data are:\n",
      "Accuracy: 0.7814814814814814 ,Recall: 0.7720588235294118 , Specificity: 0.7910447761194029 , False Positive Rate: 0.208955223880597 , Precision: 0.7894736842105263, F1 Score: 0.7806691449814126\n"
     ]
    }
   ],
   "source": [
    "# train data \n",
    "confusion = metrics.confusion_matrix(y_train, y_pred_train)\n",
    "print(confusion)\n",
    "TP2 = confusion[1, 1]\n",
    "TN2 = confusion[0, 0]\n",
    "FP2 = confusion[0, 1]\n",
    "FN2 = confusion[1, 0]\n",
    "acc_val(TP2, TN2, FP2, FN2, 'Train Data')"
   ]
  },
  {
   "cell_type": "code",
   "execution_count": 101,
   "id": "12465b70",
   "metadata": {},
   "outputs": [
    {
     "data": {
      "text/plain": [
       "0.6594051799824407"
      ]
     },
     "execution_count": 101,
     "metadata": {},
     "output_type": "execute_result"
    }
   ],
   "source": [
    "roc_auc_score(y_test, logreg.predict(X_test))"
   ]
  },
  {
   "cell_type": "code",
   "execution_count": 102,
   "id": "dff580cc",
   "metadata": {},
   "outputs": [
    {
     "data": {
      "text/plain": [
       "0.7815517998244075"
      ]
     },
     "execution_count": 102,
     "metadata": {},
     "output_type": "execute_result"
    }
   ],
   "source": [
    "roc_auc_score(y_train, logreg.predict(X_train))"
   ]
  },
  {
   "cell_type": "code",
   "execution_count": 103,
   "id": "c7dc9093",
   "metadata": {},
   "outputs": [],
   "source": [
    "#Parameter tuning"
   ]
  },
  {
   "cell_type": "code",
   "execution_count": 104,
   "id": "2f17294e",
   "metadata": {},
   "outputs": [
    {
     "name": "stdout",
     "output_type": "stream",
     "text": [
      "Best: 0.650617 using {'C': 0.01, 'penalty': 'l2', 'solver': 'newton-cg'}\n"
     ]
    }
   ],
   "source": [
    "# define models and parameters\n",
    "model = LogisticRegression()\n",
    "solvers = ['newton-cg', 'lbfgs', 'liblinear']\n",
    "penalty = ['l2']\n",
    "c_values = [100, 10, 1.0, 0.1, 0.01]\n",
    "# define grid search\n",
    "grid = dict(solver=solvers,penalty=penalty,C=c_values)\n",
    "cv = RepeatedStratifiedKFold(n_splits=10, n_repeats=3, random_state=1)\n",
    "grid_search = GridSearchCV(estimator=model, param_grid=grid, n_jobs=-1, cv=cv, scoring='accuracy',error_score=0)\n",
    "grid_result = grid_search.fit(X_test, y_test)\n",
    "print(\"Best: %f using %s\" % (grid_result.best_score_, grid_result.best_params_))\n",
    "params = grid_result.cv_results_['params']"
   ]
  },
  {
   "cell_type": "code",
   "execution_count": null,
   "id": "e27c5af8",
   "metadata": {},
   "outputs": [],
   "source": []
  },
  {
   "cell_type": "code",
   "execution_count": null,
   "id": "7134945f",
   "metadata": {},
   "outputs": [],
   "source": []
  }
 ],
 "metadata": {
  "kernelspec": {
   "display_name": "Python 3",
   "language": "python",
   "name": "python3"
  },
  "language_info": {
   "codemirror_mode": {
    "name": "ipython",
    "version": 3
   },
   "file_extension": ".py",
   "mimetype": "text/x-python",
   "name": "python",
   "nbconvert_exporter": "python",
   "pygments_lexer": "ipython3",
   "version": "3.8.8"
  }
 },
 "nbformat": 4,
 "nbformat_minor": 5
}
