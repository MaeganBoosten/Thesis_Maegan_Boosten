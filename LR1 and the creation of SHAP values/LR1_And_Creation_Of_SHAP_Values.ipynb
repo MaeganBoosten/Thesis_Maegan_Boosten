{
 "cells": [
  {
   "cell_type": "code",
   "execution_count": null,
   "id": "732f33d1",
   "metadata": {},
   "outputs": [],
   "source": [
    "import pandas as pd\n",
    "import numpy as np\n",
    "from sklearn import preprocessing\n",
    "import matplotlib.pyplot as plt \n",
    "plt.rc(\"font\", size=14)\n",
    "!pip install -U imbalanced-learn\n",
    "\n",
    "from sklearn.linear_model import LogisticRegression\n",
    "from sklearn.model_selection import train_test_split\n",
    "from sklearn.metrics import classification_report, confusion_matrix\n",
    "from collections import Counter\n",
    "from sklearn.datasets import make_classification\n",
    "from imblearn.over_sampling import RandomOverSampler\n",
    "from sklearn.preprocessing import StandardScaler\n",
    "from pandas import DataFrame\n",
    "\n",
    "import seaborn as sns\n",
    "sns.set(style=\"white\")\n",
    "sns.set(style=\"whitegrid\", color_codes=True)"
   ]
  },
  {
   "cell_type": "code",
   "execution_count": null,
   "id": "83b2c2a5",
   "metadata": {},
   "outputs": [],
   "source": [
    "from urllib.request import urlretrieve\n",
    "urlretrieve('http://archive.ics.uci.edu/ml/machine-learning-databases/statlog/german/german.data', 'german.data')"
   ]
  },
  {
   "cell_type": "code",
   "execution_count": null,
   "id": "2c5520de",
   "metadata": {},
   "outputs": [],
   "source": [
    "import pandas as pd\n",
    "german_data = pd.read_csv('http://archive.ics.uci.edu/ml/machine-learning-databases/statlog/german/german.data', \n",
    "                        delimiter=' ',header=None)"
   ]
  },
  {
   "cell_type": "code",
   "execution_count": null,
   "id": "4f9b2b7d",
   "metadata": {},
   "outputs": [],
   "source": [
    "german_data.describe()"
   ]
  },
  {
   "cell_type": "code",
   "execution_count": null,
   "id": "05d05955",
   "metadata": {},
   "outputs": [],
   "source": [
    "german_data.columns=['account_bal','duration','payment_status','purpose',\n",
    "                   'credit_amount','savings_bond_value','employed_since',\n",
    "                   'intallment_rate','sex_marital','guarantor','residence_since',\n",
    "                   'most_valuable_asset','age','concurrent_credits','type_of_housing',\n",
    "                   'number_of_existcr','job','number_of_dependents','telephon',\n",
    "                   'foreign','target']"
   ]
  },
  {
   "cell_type": "code",
   "execution_count": null,
   "id": "1cda7923",
   "metadata": {},
   "outputs": [],
   "source": [
    "german_data= german_data.replace(['A11','A12','A13','A14', 'A171','A172','A173','A174','A121','A122','A123','A124'],\n",
    "                  ['neg_bal','positive_bal','positive_bal','no_acc','unskilled','unskilled','skilled','highly_skilled',\n",
    "                   'none','car','life_insurance','real_estate'])"
   ]
  },
  {
   "cell_type": "code",
   "execution_count": null,
   "id": "5a25e43b",
   "metadata": {},
   "outputs": [],
   "source": [
    "# import libraries for visualizations\n",
    "\n",
    "import seaborn as sns\n",
    "import matplotlib\n",
    "import matplotlib.pyplot as plt\n",
    "%matplotlib inline"
   ]
  },
  {
   "cell_type": "code",
   "execution_count": null,
   "id": "179c7184",
   "metadata": {},
   "outputs": [],
   "source": [
    "german_data.target.unique()"
   ]
  },
  {
   "cell_type": "code",
   "execution_count": null,
   "id": "e7a7ed5d",
   "metadata": {},
   "outputs": [],
   "source": [
    "from sklearn.preprocessing import LabelEncoder\n",
    "\n",
    "le= LabelEncoder()\n",
    "le.fit(german_data.target)\n",
    "german_data.target=le.transform(german_data.target)\n",
    "german_data.target.head(5)"
   ]
  },
  {
   "cell_type": "code",
   "execution_count": null,
   "id": "1a4b43e6",
   "metadata": {},
   "outputs": [],
   "source": [
    "good_bad_per=round(((german_data.target.value_counts()/german_data.target.count())*100))\n",
    "good_bad_per\n",
    "plt.pie(good_bad_per,labels=['Good loans', 'Bad loans'], autopct='%1.0f%%', startangle=90)\n",
    "plt.title('Percentage of good and bad loans');"
   ]
  },
  {
   "cell_type": "code",
   "execution_count": null,
   "id": "d0f10efd",
   "metadata": {},
   "outputs": [],
   "source": [
    "# Number of unique classes in each object column\n",
    "german_data.select_dtypes('object').apply(pd.Series.nunique, axis = 0)"
   ]
  },
  {
   "cell_type": "code",
   "execution_count": null,
   "id": "78d4eb08",
   "metadata": {},
   "outputs": [],
   "source": [
    "#label encoding"
   ]
  },
  {
   "cell_type": "code",
   "execution_count": null,
   "id": "0c72848e",
   "metadata": {},
   "outputs": [],
   "source": [
    "# sklearn preprocessing for dealing with categorical variables\n",
    "from sklearn.preprocessing import LabelEncoder\n",
    "\n",
    "# Create a label encoder object\n",
    "le = LabelEncoder()\n",
    "le_count = 0\n",
    "\n",
    "# Iterate through the columns\n",
    "for col in german_data:\n",
    "    if german_data[col].dtype == 'object':\n",
    "        # If 2 or fewer unique categories\n",
    "        if len(list(german_data[col].unique())) <= 2:\n",
    "            # Train on the training data\n",
    "            le.fit(german_data[col])\n",
    "            # Transform both training and testing data\n",
    "            german_data[col] = le.transform(german_data[col])\n",
    "            \n",
    "            # Keep track of how many columns were label encoded\n",
    "            le_count += 1\n",
    "            \n",
    "print('%d columns were label encoded.' % le_count)"
   ]
  },
  {
   "cell_type": "code",
   "execution_count": null,
   "id": "0342cc73",
   "metadata": {},
   "outputs": [],
   "source": [
    "#One-Hot Encoding"
   ]
  },
  {
   "cell_type": "code",
   "execution_count": null,
   "id": "18117292",
   "metadata": {},
   "outputs": [],
   "source": [
    "# one-hot encoding of categorical variables\n",
    "german_data = pd.get_dummies(german_data)\n",
    "\n",
    "print('Encoded Features shape: ', german_data.shape)"
   ]
  },
  {
   "cell_type": "code",
   "execution_count": null,
   "id": "aee8dc42",
   "metadata": {},
   "outputs": [],
   "source": [
    "german_data.columns"
   ]
  },
  {
   "cell_type": "code",
   "execution_count": null,
   "id": "0e98207d",
   "metadata": {},
   "outputs": [],
   "source": [
    "x = german_data.drop('target', axis=1)\n",
    "y = german_data['target'] "
   ]
  },
  {
   "cell_type": "code",
   "execution_count": null,
   "id": "98a1a5f8",
   "metadata": {},
   "outputs": [],
   "source": [
    "#z-score normalization"
   ]
  },
  {
   "cell_type": "code",
   "execution_count": null,
   "id": "076aa210",
   "metadata": {},
   "outputs": [],
   "source": [
    "# define standard scaler\n",
    "scaler = StandardScaler()\n",
    "# transform data\n",
    "scaled_data = scaler.fit_transform(x)\n",
    "X = DataFrame(scaled_data)"
   ]
  },
  {
   "cell_type": "code",
   "execution_count": null,
   "id": "d7a019ce",
   "metadata": {},
   "outputs": [],
   "source": [
    "X.columns=['duration', 'credit_amount', 'intallment_rate', 'residence_since',\n",
    "       'age', 'number_of_existcr', 'number_of_dependents', 'telephon',\n",
    "       'foreign', 'account_bal_neg_bal', 'account_bal_no_acc',\n",
    "       'account_bal_positive_bal', 'payment_status_A30', 'payment_status_A31',\n",
    "       'payment_status_A32', 'payment_status_A33', 'payment_status_A34',\n",
    "       'purpose_A40', 'purpose_A41', 'purpose_A410', 'purpose_A42',\n",
    "       'purpose_A43', 'purpose_A44', 'purpose_A45', 'purpose_A46',\n",
    "       'purpose_A48', 'purpose_A49', 'savings_bond_value_A61',\n",
    "       'savings_bond_value_A62', 'savings_bond_value_A63',\n",
    "       'savings_bond_value_A64', 'savings_bond_value_A65',\n",
    "       'employed_since_A71', 'employed_since_A72', 'employed_since_A73',\n",
    "       'employed_since_A74', 'employed_since_A75', 'sex_marital_A91',\n",
    "       'sex_marital_A92', 'sex_marital_A93', 'sex_marital_A94',\n",
    "       'guarantor_A101', 'guarantor_A102', 'guarantor_A103',\n",
    "       'most_valuable_asset_car', 'most_valuable_asset_life_insurance',\n",
    "       'most_valuable_asset_none', 'most_valuable_asset_real_estate',\n",
    "       'concurrent_credits_A141', 'concurrent_credits_A142',\n",
    "       'concurrent_credits_A143', 'type_of_housing_A151',\n",
    "       'type_of_housing_A152', 'type_of_housing_A153', 'job_highly_skilled',\n",
    "       'job_skilled', 'job_unskilled']"
   ]
  },
  {
   "cell_type": "code",
   "execution_count": null,
   "id": "b810c2eb",
   "metadata": {},
   "outputs": [],
   "source": [
    "X"
   ]
  },
  {
   "cell_type": "code",
   "execution_count": null,
   "id": "f6446bc7",
   "metadata": {},
   "outputs": [],
   "source": [
    "#Logistic regression "
   ]
  },
  {
   "cell_type": "code",
   "execution_count": null,
   "id": "d80c0341",
   "metadata": {},
   "outputs": [],
   "source": [
    "from sklearn.model_selection import train_test_split\n",
    "from sklearn import model_selection"
   ]
  },
  {
   "cell_type": "code",
   "execution_count": null,
   "id": "cf143536",
   "metadata": {},
   "outputs": [],
   "source": [
    "print(X.shape, y.shape)"
   ]
  },
  {
   "cell_type": "code",
   "execution_count": null,
   "id": "c41cdf13",
   "metadata": {},
   "outputs": [],
   "source": [
    "#Oversampling"
   ]
  },
  {
   "cell_type": "code",
   "execution_count": null,
   "id": "58b98a85",
   "metadata": {},
   "outputs": [],
   "source": [
    "# summarize class distribution\n",
    "print(Counter(y))\n",
    "# define oversampling strategy\n",
    "oversample = RandomOverSampler(sampling_strategy='minority')\n",
    "# fit and apply the transform\n",
    "X_over, y_over = oversample.fit_resample(X, y)\n",
    "# summarize class distribution\n",
    "print(Counter(y_over))"
   ]
  },
  {
   "cell_type": "code",
   "execution_count": null,
   "id": "95fbf743",
   "metadata": {},
   "outputs": [],
   "source": [
    "from sklearn.linear_model import LogisticRegression\n",
    "from sklearn import metrics"
   ]
  },
  {
   "cell_type": "code",
   "execution_count": null,
   "id": "9f038fc1",
   "metadata": {},
   "outputs": [],
   "source": [
    "X_train, X_test, y_train, y_test = model_selection.train_test_split(X_over, y_over, test_size=0.5, random_state=42)"
   ]
  },
  {
   "cell_type": "code",
   "execution_count": null,
   "id": "be788366",
   "metadata": {},
   "outputs": [],
   "source": [
    "sum(y_test)\n",
    "len(y_train)"
   ]
  },
  {
   "cell_type": "code",
   "execution_count": null,
   "id": "3ab88353",
   "metadata": {},
   "outputs": [],
   "source": [
    "sum(y_train)"
   ]
  },
  {
   "cell_type": "code",
   "execution_count": null,
   "id": "a7526766",
   "metadata": {},
   "outputs": [],
   "source": [
    "# instantiate model\n",
    "logreg = LogisticRegression(max_iter=500)\n"
   ]
  },
  {
   "cell_type": "code",
   "execution_count": null,
   "id": "7c81ca45",
   "metadata": {},
   "outputs": [],
   "source": [
    "# fit model\n",
    "logreg.fit(X_train, y_train)\n"
   ]
  },
  {
   "cell_type": "code",
   "execution_count": null,
   "id": "4643cd6b",
   "metadata": {},
   "outputs": [],
   "source": [
    "y_pred_train = logreg.predict(X_train)\n",
    "y_pred_class = logreg.predict(X_test)"
   ]
  },
  {
   "cell_type": "code",
   "execution_count": null,
   "id": "92390066",
   "metadata": {},
   "outputs": [],
   "source": [
    "# predicting \n",
    "y_pred_class"
   ]
  },
  {
   "cell_type": "code",
   "execution_count": null,
   "id": "69382dd9",
   "metadata": {},
   "outputs": [],
   "source": [
    "logreg.predict_proba(X_test)"
   ]
  },
  {
   "cell_type": "code",
   "execution_count": null,
   "id": "97afe3cf",
   "metadata": {},
   "outputs": [],
   "source": [
    "X_test"
   ]
  },
  {
   "cell_type": "code",
   "execution_count": null,
   "id": "465d857a",
   "metadata": {},
   "outputs": [],
   "source": [
    "def acc_val(TP, TN, FP, FN, data):    \n",
    "    accuracy = (TP + TN) / float(TP + TN + FP + FN)\n",
    "    recall = TP / float(FN + TP)\n",
    "    specificity = TN / (TN + FP)\n",
    "    false_positive_rate = FP / float(TN + FP)\n",
    "    precision = TP / float(TP + FP)\n",
    "    F1 = 2 * (precision * recall) / (precision + recall)\n",
    "    print('The values for {} are:'.format(data))\n",
    "    print('Accuracy: {} ,Recall: {} , Specificity: {} , False Positive Rate: {} , Precision: {}, F1 Score: {}'.format(accuracy, recall, specificity, false_positive_rate,\n",
    "                                                                                                                   precision, F1))"
   ]
  },
  {
   "cell_type": "code",
   "execution_count": null,
   "id": "89afd026",
   "metadata": {},
   "outputs": [],
   "source": [
    "# test data \n",
    "confusion = metrics.confusion_matrix(y_test, y_pred_class)\n",
    "print(confusion)\n",
    "TP1 = confusion[1, 1]\n",
    "TN1 = confusion[0, 0]\n",
    "FP1 = confusion[0, 1]\n",
    "FN1 = confusion[1, 0]\n",
    "acc_val(TP1, TN1, FP1, FN1, 'Test Data')"
   ]
  },
  {
   "cell_type": "code",
   "execution_count": null,
   "id": "e2322b90",
   "metadata": {},
   "outputs": [],
   "source": [
    "cm = confusion_matrix(y_test, y_pred_class)\n",
    "\n",
    "fig, ax = plt.subplots(figsize=(8, 8))\n",
    "ax.imshow(cm)\n",
    "ax.grid(False)\n",
    "ax.xaxis.set(ticks=(0, 1), ticklabels=('Predicted 0s', 'Predicted 1s'))\n",
    "ax.yaxis.set(ticks=(0, 1), ticklabels=('Actual 0s', 'Actual 1s'))\n",
    "ax.set_ylim(1.5, -0.5)\n",
    "for i in range(2):\n",
    "    for j in range(2):\n",
    "        ax.text(j, i, cm[i, j], ha='center', va='center', color='red')\n",
    "ax.set_title(\"Accuracy of LR1 over 500 test samples: 75%\")\n",
    "plt.show()"
   ]
  },
  {
   "cell_type": "code",
   "execution_count": null,
   "id": "ec9a1192",
   "metadata": {},
   "outputs": [],
   "source": [
    "# train data \n",
    "confusion = metrics.confusion_matrix(y_train, y_pred_train)\n",
    "print(confusion)\n",
    "TP2 = confusion[1, 1]\n",
    "TN2 = confusion[0, 0]\n",
    "FP2 = confusion[0, 1]\n",
    "FN2 = confusion[1, 0]\n",
    "acc_val(TP2, TN2, FP2, FN2, 'Train Data')"
   ]
  },
  {
   "cell_type": "code",
   "execution_count": null,
   "id": "7eb6be31",
   "metadata": {},
   "outputs": [],
   "source": [
    "cm2 = confusion_matrix(y_train, y_pred_train)\n",
    "\n",
    "fig, ax = plt.subplots(figsize=(8, 8))\n",
    "ax.imshow(cm2)\n",
    "ax.grid(False)\n",
    "ax.xaxis.set(ticks=(0, 1), ticklabels=('Predicted 0s', 'Predicted 1s'))\n",
    "ax.yaxis.set(ticks=(0, 1), ticklabels=('Actual 0s', 'Actual 1s'))\n",
    "ax.set_ylim(1.5, -0.5)\n",
    "for i in range(2):\n",
    "    for j in range(2):\n",
    "        ax.text(j, i, cm2[i, j], ha='center', va='center', color='white')\n",
    "ax.set_title(\"Accuracy of LR1 over 500 training samples: 76%\")\n",
    "plt.show()"
   ]
  },
  {
   "cell_type": "code",
   "execution_count": null,
   "id": "f53af22d",
   "metadata": {},
   "outputs": [],
   "source": [
    "y_pred_prob = logreg.predict_proba(X_test)[:, 1]\n",
    "y_pred_prob_train = logreg.predict_proba(X_train)[:, 1]\n",
    "fpr1, tpr1, thresholds1 = metrics.roc_curve(y_test, y_pred_prob)\n",
    "fpr2, tpr2, thresholds2 = metrics.roc_curve(y_train, y_pred_prob_train)\n",
    "\n",
    "random_probs = [0 for i in range(len(y_test))]\n",
    "p_fpr, p_tpr, _ = metrics.roc_curve(y_test, random_probs, pos_label=1)\n",
    "plt.style.use('seaborn')\n",
    "\n",
    "# plot roc curves\n",
    "plt.plot(fpr1, tpr1, linestyle='--',color='orange', label='Test Data')\n",
    "plt.plot(fpr2, tpr2, linestyle='--',color='green', label='Train_Data')\n",
    "plt.plot(p_fpr, p_tpr, linestyle='--', color='blue', label = 'Threshold')\n",
    "# title\n",
    "plt.title('ROC curve for Logistic Regression')\n",
    "# x label\n",
    "plt.xlabel('False Positive Rate')\n",
    "# y label\n",
    "plt.ylabel('True Positive rate')\n",
    "\n",
    "plt.legend(loc='best')\n",
    "plt.savefig('ROC',dpi=300)\n",
    "plt.show();"
   ]
  },
  {
   "cell_type": "code",
   "execution_count": null,
   "id": "f8fa2ed9",
   "metadata": {},
   "outputs": [],
   "source": [
    "print('AUC score for Test data: {}'.format(metrics.roc_auc_score(y_test, y_pred_prob)))\n",
    "print('AUC score for Train data: {}'.format(metrics.roc_auc_score(y_train, y_pred_prob_train)))"
   ]
  },
  {
   "cell_type": "code",
   "execution_count": null,
   "id": "c301cda9",
   "metadata": {
    "scrolled": true
   },
   "outputs": [],
   "source": [
    "# In sample misclassification\n",
    "def insample(y_pred_prob, y_test):\n",
    "    k = []\n",
    "    threshold = 0.2667\n",
    "    y = y_pred_prob>0.2667\n",
    "    for i in range(0,250):\n",
    "        if y[i]!=y_test[i]:\n",
    "            k.append(int(1))\n",
    "        else:\n",
    "            k.append(int(0))\n",
    "    return reduce(lambda a, b: a + b, k) / len(k) "
   ]
  },
  {
   "cell_type": "code",
   "execution_count": null,
   "id": "580aa745",
   "metadata": {},
   "outputs": [],
   "source": [
    "from functools import reduce\n",
    "mis_error1 = insample(y_pred_prob, list(y_test))\n",
    "\n",
    "print('In Sample Misclassification Rate: {}'.format(mis_error1))"
   ]
  },
  {
   "cell_type": "code",
   "execution_count": null,
   "id": "08192cde",
   "metadata": {},
   "outputs": [],
   "source": [
    "targets = ['Negative Class', 'Postive Class']\n",
    "print(classification_report(y_test, y_pred_class, target_names = targets))"
   ]
  },
  {
   "cell_type": "code",
   "execution_count": null,
   "id": "f999c88c",
   "metadata": {},
   "outputs": [],
   "source": [
    "#SHAP\n",
    "import shap"
   ]
  },
  {
   "cell_type": "code",
   "execution_count": null,
   "id": "f7e5b234",
   "metadata": {},
   "outputs": [],
   "source": [
    "logreg.predict"
   ]
  },
  {
   "cell_type": "code",
   "execution_count": null,
   "id": "b9f8a82c",
   "metadata": {},
   "outputs": [],
   "source": [
    "k_explainer = shap.KernelExplainer(logreg.predict_proba, X_test)\n",
    "k_shap_values = k_explainer.shap_values(X_test)"
   ]
  },
  {
   "cell_type": "code",
   "execution_count": null,
   "id": "8e05ec0d",
   "metadata": {},
   "outputs": [],
   "source": [
    "import pandas as pd"
   ]
  },
  {
   "cell_type": "code",
   "execution_count": null,
   "id": "e8ef8ee3",
   "metadata": {},
   "outputs": [],
   "source": [
    "shap.summary_plot(k_shap_values, X_test, plot_type='bar')"
   ]
  },
  {
   "cell_type": "code",
   "execution_count": null,
   "id": "34fd74a3",
   "metadata": {},
   "outputs": [],
   "source": [
    "shap.initjs()\n",
    "shap.force_plot(k_explainer.expected_value[1], k_shap_values[1], X_test)"
   ]
  },
  {
   "cell_type": "code",
   "execution_count": null,
   "id": "86e48c0a",
   "metadata": {},
   "outputs": [],
   "source": [
    "SHAP = np.array(k_shap_values[1])"
   ]
  },
  {
   "cell_type": "code",
   "execution_count": null,
   "id": "c864bcf4",
   "metadata": {},
   "outputs": [],
   "source": [
    "SHAP.shape"
   ]
  },
  {
   "cell_type": "code",
   "execution_count": null,
   "id": "e8342acd",
   "metadata": {},
   "outputs": [],
   "source": [
    "X_test.columns"
   ]
  },
  {
   "cell_type": "code",
   "execution_count": null,
   "id": "5b9c09ba",
   "metadata": {},
   "outputs": [],
   "source": [
    "df = pd.DataFrame(SHAP, columns =['duration', 'credit_amount', 'intallment_rate', 'residence_since',\n",
    "       'age', 'number_of_existcr', 'number_of_dependents', 'telephon',\n",
    "       'foreign', 'account_bal_neg_bal', 'account_bal_no_acc',\n",
    "       'account_bal_positive_bal', 'payment_status_A30', 'payment_status_A31',\n",
    "       'payment_status_A32', 'payment_status_A33', 'payment_status_A34',\n",
    "       'purpose_A40', 'purpose_A41', 'purpose_A410', 'purpose_A42',\n",
    "       'purpose_A43', 'purpose_A44', 'purpose_A45', 'purpose_A46',\n",
    "       'purpose_A48', 'purpose_A49', 'savings_bond_value_A61',\n",
    "       'savings_bond_value_A62', 'savings_bond_value_A63',\n",
    "       'savings_bond_value_A64', 'savings_bond_value_A65',\n",
    "       'employed_since_A71', 'employed_since_A72', 'employed_since_A73',\n",
    "       'employed_since_A74', 'employed_since_A75', 'sex_marital_A91',\n",
    "       'sex_marital_A92', 'sex_marital_A93', 'sex_marital_A94',\n",
    "       'guarantor_A101', 'guarantor_A102', 'guarantor_A103',\n",
    "       'most_valuable_asset_car', 'most_valuable_asset_life_insurance',\n",
    "       'most_valuable_asset_none', 'most_valuable_asset_real_estate',\n",
    "       'concurrent_credits_A141', 'concurrent_credits_A142',\n",
    "       'concurrent_credits_A143', 'type_of_housing_A151',\n",
    "       'type_of_housing_A152', 'type_of_housing_A153', 'job_highly_skilled',\n",
    "       'job_skilled', 'job_unskilled']) \n",
    "print(df )\n"
   ]
  },
  {
   "cell_type": "code",
   "execution_count": null,
   "id": "f8441c04",
   "metadata": {},
   "outputs": [],
   "source": [
    "df.to_excel(\"output_SHAP_final.xlsx\")  "
   ]
  },
  {
   "cell_type": "code",
   "execution_count": null,
   "id": "cef746be",
   "metadata": {},
   "outputs": [],
   "source": [
    "X_test"
   ]
  },
  {
   "cell_type": "code",
   "execution_count": null,
   "id": "f9948bcd",
   "metadata": {},
   "outputs": [],
   "source": [
    "predicted_class = y_pred_class\n",
    "correct_class = y_test\n",
    "X_test['predicted_class'] = predicted_class.tolist()\n",
    "X_test['correct_class'] = correct_class.tolist()\n",
    "X_test"
   ]
  },
  {
   "cell_type": "code",
   "execution_count": null,
   "id": "82b87d94",
   "metadata": {},
   "outputs": [],
   "source": [
    "X_test.to_excel(\"output_log_regression_1_final.xlsx\")  "
   ]
  },
  {
   "cell_type": "code",
   "execution_count": null,
   "id": "898468fe",
   "metadata": {},
   "outputs": [],
   "source": [
    "from matplotlib.colors import LinearSegmentedColormap\n",
    "\n",
    "# Generate colormap through matplotlib\n",
    "newCmap = LinearSegmentedColormap.from_list(\"\", ['#c4cfd4','#3345ea'])"
   ]
  },
  {
   "cell_type": "code",
   "execution_count": null,
   "id": "8977cbe0",
   "metadata": {},
   "outputs": [],
   "source": [
    "plot_color=newCmap"
   ]
  },
  {
   "cell_type": "code",
   "execution_count": null,
   "id": "a81c168a",
   "metadata": {},
   "outputs": [],
   "source": [
    "shap.summary_plot(df, df, plot_type='bar')"
   ]
  },
  {
   "cell_type": "code",
   "execution_count": null,
   "id": "d2c01ba3",
   "metadata": {},
   "outputs": [],
   "source": [
    "df"
   ]
  },
  {
   "cell_type": "code",
   "execution_count": null,
   "id": "92c4fb47",
   "metadata": {},
   "outputs": [],
   "source": [
    "df.describe()"
   ]
  },
  {
   "cell_type": "code",
   "execution_count": null,
   "id": "27c89552",
   "metadata": {},
   "outputs": [],
   "source": []
  }
 ],
 "metadata": {
  "kernelspec": {
   "display_name": "Python 3",
   "language": "python",
   "name": "python3"
  },
  "language_info": {
   "codemirror_mode": {
    "name": "ipython",
    "version": 3
   },
   "file_extension": ".py",
   "mimetype": "text/x-python",
   "name": "python",
   "nbconvert_exporter": "python",
   "pygments_lexer": "ipython3",
   "version": "3.8.8"
  }
 },
 "nbformat": 4,
 "nbformat_minor": 5
}
