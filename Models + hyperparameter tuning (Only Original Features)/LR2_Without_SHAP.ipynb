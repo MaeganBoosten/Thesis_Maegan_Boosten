{
 "cells": [
  {
   "cell_type": "code",
   "execution_count": 49,
   "id": "03e453ec",
   "metadata": {},
   "outputs": [],
   "source": [
    "import pandas as pd\n",
    "import numpy as np\n",
    "from sklearn import preprocessing\n",
    "import matplotlib.pyplot as plt \n",
    "plt.rc(\"font\", size=14)\n",
    "\n",
    "from sklearn.model_selection import RepeatedStratifiedKFold\n",
    "from sklearn import metrics\n",
    "from sklearn.metrics import roc_auc_score, recall_score, classification_report\n",
    "from sklearn.model_selection import StratifiedKFold, cross_val_score, cross_validate\n",
    "from sklearn.model_selection import GridSearchCV\n",
    "from sklearn.linear_model import LogisticRegression\n",
    "from sklearn.model_selection import train_test_split\n",
    "from sklearn.metrics import classification_report, confusion_matrix\n",
    "from collections import Counter\n",
    "from sklearn.metrics import roc_auc_score\n",
    "from sklearn.datasets import make_classification\n",
    "from imblearn.over_sampling import RandomOverSampler\n",
    "from sklearn.preprocessing import StandardScaler\n",
    "from pandas import DataFrame\n",
    "\n",
    "import seaborn as sns\n",
    "sns.set(style=\"white\")\n",
    "sns.set(style=\"whitegrid\", color_codes=True)"
   ]
  },
  {
   "cell_type": "code",
   "execution_count": 50,
   "id": "6dc5abb8",
   "metadata": {
    "scrolled": true
   },
   "outputs": [
    {
     "name": "stdout",
     "output_type": "stream",
     "text": [
      "     duration  credit_amount  intallment_rate  residence_since       age  \\\n",
      "0    0.256953       1.078480         0.918477        -0.765977 -0.751642   \n",
      "1   -0.240857      -0.237923         0.918477         1.046987  2.590552   \n",
      "2    0.505858      -0.248556         0.024147         0.140505 -1.279356   \n",
      "3    0.256953       1.168508        -0.870183        -0.765977 -1.279356   \n",
      "4    2.248194       1.165673         0.024147        -0.765977 -1.015499   \n",
      "..        ...            ...              ...              ...       ...   \n",
      "369  1.252574       1.757239        -0.870183        -0.765977 -0.839594   \n",
      "370 -0.738668      -0.877693         0.918477         1.046987  1.535122   \n",
      "371 -0.738668      -0.912429         0.918477        -0.765977  0.919455   \n",
      "372  0.256953      -0.728473         0.918477         1.046987  0.215835   \n",
      "373 -0.738668      -0.615760        -1.764514        -1.672459 -1.103451   \n",
      "\n",
      "     number_of_existcr  number_of_dependents  telephon   foreign  \\\n",
      "0             1.027079             -0.428290  1.214598 -0.196014   \n",
      "1             1.027079             -0.428290 -0.823318 -0.196014   \n",
      "2            -0.704926             -0.428290 -0.823318 -0.196014   \n",
      "3            -0.704926             -0.428290 -0.823318 -0.196014   \n",
      "4            -0.704926             -0.428290 -0.823318 -0.196014   \n",
      "..                 ...                   ...       ...       ...   \n",
      "369          -0.704926              2.334869 -0.823318 -0.196014   \n",
      "370          -0.704926             -0.428290 -0.823318 -0.196014   \n",
      "371           1.027079             -0.428290  1.214598 -0.196014   \n",
      "372           1.027079              2.334869 -0.823318 -0.196014   \n",
      "373          -0.704926             -0.428290 -0.823318 -0.196014   \n",
      "\n",
      "     account_bal_neg_bal  ...  concurrent_credits_A141  \\\n",
      "0              -0.614337  ...                 2.488824   \n",
      "1               1.627770  ...                -0.401796   \n",
      "2              -0.614337  ...                -0.401796   \n",
      "3               1.627770  ...                -0.401796   \n",
      "4              -0.614337  ...                -0.401796   \n",
      "..                   ...  ...                      ...   \n",
      "369             1.627770  ...                -0.401796   \n",
      "370             1.627770  ...                -0.401796   \n",
      "371             1.627770  ...                 2.488824   \n",
      "372            -0.614337  ...                 2.488824   \n",
      "373            -0.614337  ...                -0.401796   \n",
      "\n",
      "     concurrent_credits_A142  concurrent_credits_A143  type_of_housing_A151  \\\n",
      "0                  -0.222076                -2.091971             -0.466933   \n",
      "1                  -0.222076                 0.478018             -0.466933   \n",
      "2                  -0.222076                 0.478018              2.141633   \n",
      "3                   4.502954                -2.091971             -0.466933   \n",
      "4                  -0.222076                 0.478018             -0.466933   \n",
      "..                       ...                      ...                   ...   \n",
      "369                -0.222076                 0.478018             -0.466933   \n",
      "370                -0.222076                 0.478018             -0.466933   \n",
      "371                -0.222076                -2.091971             -0.466933   \n",
      "372                -0.222076                -2.091971             -0.466933   \n",
      "373                -0.222076                 0.478018              2.141633   \n",
      "\n",
      "     type_of_housing_A152  type_of_housing_A153  job_highly_skilled  \\\n",
      "0                0.634448             -0.347960            2.399324   \n",
      "1               -1.576173              2.873893           -0.416784   \n",
      "2               -1.576173             -0.347960           -0.416784   \n",
      "3                0.634448             -0.347960           -0.416784   \n",
      "4                0.634448             -0.347960           -0.416784   \n",
      "..                    ...                   ...                 ...   \n",
      "369              0.634448             -0.347960           -0.416784   \n",
      "370              0.634448             -0.347960           -0.416784   \n",
      "371              0.634448             -0.347960           -0.416784   \n",
      "372              0.634448             -0.347960           -0.416784   \n",
      "373             -1.576173             -0.347960           -0.416784   \n",
      "\n",
      "     job_skilled  job_unskilled  False Positive  \n",
      "0      -1.304877      -0.534179               1  \n",
      "1       0.766356      -0.534179               0  \n",
      "2       0.766356      -0.534179               0  \n",
      "3      -1.304877       1.872032               1  \n",
      "4       0.766356      -0.534179               0  \n",
      "..           ...            ...             ...  \n",
      "369     0.766356      -0.534179               0  \n",
      "370     0.766356      -0.534179               0  \n",
      "371     0.766356      -0.534179               0  \n",
      "372     0.766356      -0.534179               0  \n",
      "373     0.766356      -0.534179               0  \n",
      "\n",
      "[374 rows x 58 columns]\n"
     ]
    }
   ],
   "source": [
    "df = pd.read_excel (r'/Users/MaeganBoosten/Thesis_Project/Final/Original.xlsx')\n",
    "print (df)"
   ]
  },
  {
   "cell_type": "code",
   "execution_count": 51,
   "id": "94d9f03a",
   "metadata": {},
   "outputs": [],
   "source": [
    "#Logistic regression "
   ]
  },
  {
   "cell_type": "code",
   "execution_count": 52,
   "id": "1161a014",
   "metadata": {},
   "outputs": [],
   "source": [
    "from sklearn.model_selection import train_test_split\n",
    "from sklearn import model_selection"
   ]
  },
  {
   "cell_type": "code",
   "execution_count": 53,
   "id": "a477e3c6",
   "metadata": {},
   "outputs": [],
   "source": [
    "X = df.drop('False Positive', axis=1)\n",
    "y = df['False Positive'] "
   ]
  },
  {
   "cell_type": "code",
   "execution_count": 54,
   "id": "2e7d6bde",
   "metadata": {},
   "outputs": [
    {
     "name": "stdout",
     "output_type": "stream",
     "text": [
      "(374, 57) (374,)\n"
     ]
    }
   ],
   "source": [
    "print(X.shape, y.shape)"
   ]
  },
  {
   "cell_type": "code",
   "execution_count": 55,
   "id": "4e9908f9",
   "metadata": {},
   "outputs": [],
   "source": [
    "#Oversampling"
   ]
  },
  {
   "cell_type": "code",
   "execution_count": 56,
   "id": "37d3b09a",
   "metadata": {},
   "outputs": [
    {
     "name": "stdout",
     "output_type": "stream",
     "text": [
      "Counter({0: 270, 1: 104})\n",
      "Counter({1: 270, 0: 270})\n"
     ]
    }
   ],
   "source": [
    "# summarize class distribution\n",
    "print(Counter(y))\n",
    "# define oversampling strategy\n",
    "oversample = RandomOverSampler(sampling_strategy='minority')\n",
    "# fit and apply the transform\n",
    "X_over, y_over = oversample.fit_resample(X, y)\n",
    "# summarize class distribution\n",
    "print(Counter(y_over))"
   ]
  },
  {
   "cell_type": "code",
   "execution_count": 57,
   "id": "5adea3e0",
   "metadata": {},
   "outputs": [],
   "source": [
    "from sklearn.linear_model import LogisticRegression\n",
    "from sklearn import metrics\n",
    "import statsmodels.formula.api as smf\n",
    "import statsmodels.api as sm"
   ]
  },
  {
   "cell_type": "code",
   "execution_count": 58,
   "id": "f95088e2",
   "metadata": {},
   "outputs": [],
   "source": [
    "X_train, X_test, y_train, y_test = model_selection.train_test_split(X_over, y_over, test_size=0.5, random_state=42)"
   ]
  },
  {
   "cell_type": "code",
   "execution_count": 59,
   "id": "30d46b0c",
   "metadata": {},
   "outputs": [],
   "source": [
    "# instantiate model\n",
    "logreg = LogisticRegression(random_state=42, solver = 'newton-cg')"
   ]
  },
  {
   "cell_type": "code",
   "execution_count": 60,
   "id": "3b75f32a",
   "metadata": {},
   "outputs": [
    {
     "data": {
      "text/html": [
       "<style>#sk-container-id-3 {color: black;background-color: white;}#sk-container-id-3 pre{padding: 0;}#sk-container-id-3 div.sk-toggleable {background-color: white;}#sk-container-id-3 label.sk-toggleable__label {cursor: pointer;display: block;width: 100%;margin-bottom: 0;padding: 0.3em;box-sizing: border-box;text-align: center;}#sk-container-id-3 label.sk-toggleable__label-arrow:before {content: \"▸\";float: left;margin-right: 0.25em;color: #696969;}#sk-container-id-3 label.sk-toggleable__label-arrow:hover:before {color: black;}#sk-container-id-3 div.sk-estimator:hover label.sk-toggleable__label-arrow:before {color: black;}#sk-container-id-3 div.sk-toggleable__content {max-height: 0;max-width: 0;overflow: hidden;text-align: left;background-color: #f0f8ff;}#sk-container-id-3 div.sk-toggleable__content pre {margin: 0.2em;color: black;border-radius: 0.25em;background-color: #f0f8ff;}#sk-container-id-3 input.sk-toggleable__control:checked~div.sk-toggleable__content {max-height: 200px;max-width: 100%;overflow: auto;}#sk-container-id-3 input.sk-toggleable__control:checked~label.sk-toggleable__label-arrow:before {content: \"▾\";}#sk-container-id-3 div.sk-estimator input.sk-toggleable__control:checked~label.sk-toggleable__label {background-color: #d4ebff;}#sk-container-id-3 div.sk-label input.sk-toggleable__control:checked~label.sk-toggleable__label {background-color: #d4ebff;}#sk-container-id-3 input.sk-hidden--visually {border: 0;clip: rect(1px 1px 1px 1px);clip: rect(1px, 1px, 1px, 1px);height: 1px;margin: -1px;overflow: hidden;padding: 0;position: absolute;width: 1px;}#sk-container-id-3 div.sk-estimator {font-family: monospace;background-color: #f0f8ff;border: 1px dotted black;border-radius: 0.25em;box-sizing: border-box;margin-bottom: 0.5em;}#sk-container-id-3 div.sk-estimator:hover {background-color: #d4ebff;}#sk-container-id-3 div.sk-parallel-item::after {content: \"\";width: 100%;border-bottom: 1px solid gray;flex-grow: 1;}#sk-container-id-3 div.sk-label:hover label.sk-toggleable__label {background-color: #d4ebff;}#sk-container-id-3 div.sk-serial::before {content: \"\";position: absolute;border-left: 1px solid gray;box-sizing: border-box;top: 0;bottom: 0;left: 50%;z-index: 0;}#sk-container-id-3 div.sk-serial {display: flex;flex-direction: column;align-items: center;background-color: white;padding-right: 0.2em;padding-left: 0.2em;position: relative;}#sk-container-id-3 div.sk-item {position: relative;z-index: 1;}#sk-container-id-3 div.sk-parallel {display: flex;align-items: stretch;justify-content: center;background-color: white;position: relative;}#sk-container-id-3 div.sk-item::before, #sk-container-id-3 div.sk-parallel-item::before {content: \"\";position: absolute;border-left: 1px solid gray;box-sizing: border-box;top: 0;bottom: 0;left: 50%;z-index: -1;}#sk-container-id-3 div.sk-parallel-item {display: flex;flex-direction: column;z-index: 1;position: relative;background-color: white;}#sk-container-id-3 div.sk-parallel-item:first-child::after {align-self: flex-end;width: 50%;}#sk-container-id-3 div.sk-parallel-item:last-child::after {align-self: flex-start;width: 50%;}#sk-container-id-3 div.sk-parallel-item:only-child::after {width: 0;}#sk-container-id-3 div.sk-dashed-wrapped {border: 1px dashed gray;margin: 0 0.4em 0.5em 0.4em;box-sizing: border-box;padding-bottom: 0.4em;background-color: white;}#sk-container-id-3 div.sk-label label {font-family: monospace;font-weight: bold;display: inline-block;line-height: 1.2em;}#sk-container-id-3 div.sk-label-container {text-align: center;}#sk-container-id-3 div.sk-container {/* jupyter's `normalize.less` sets `[hidden] { display: none; }` but bootstrap.min.css set `[hidden] { display: none !important; }` so we also need the `!important` here to be able to override the default hidden behavior on the sphinx rendered scikit-learn.org. See: https://github.com/scikit-learn/scikit-learn/issues/21755 */display: inline-block !important;position: relative;}#sk-container-id-3 div.sk-text-repr-fallback {display: none;}</style><div id=\"sk-container-id-3\" class=\"sk-top-container\"><div class=\"sk-text-repr-fallback\"><pre>LogisticRegression(random_state=42, solver=&#x27;newton-cg&#x27;)</pre><b>In a Jupyter environment, please rerun this cell to show the HTML representation or trust the notebook. <br />On GitHub, the HTML representation is unable to render, please try loading this page with nbviewer.org.</b></div><div class=\"sk-container\" hidden><div class=\"sk-item\"><div class=\"sk-estimator sk-toggleable\"><input class=\"sk-toggleable__control sk-hidden--visually\" id=\"sk-estimator-id-3\" type=\"checkbox\" checked><label for=\"sk-estimator-id-3\" class=\"sk-toggleable__label sk-toggleable__label-arrow\">LogisticRegression</label><div class=\"sk-toggleable__content\"><pre>LogisticRegression(random_state=42, solver=&#x27;newton-cg&#x27;)</pre></div></div></div></div></div>"
      ],
      "text/plain": [
       "LogisticRegression(random_state=42, solver='newton-cg')"
      ]
     },
     "execution_count": 60,
     "metadata": {},
     "output_type": "execute_result"
    }
   ],
   "source": [
    "# fit model\n",
    "logreg.fit(X_train, y_train)"
   ]
  },
  {
   "cell_type": "code",
   "execution_count": 61,
   "id": "04f472c7",
   "metadata": {},
   "outputs": [],
   "source": [
    "y_pred_train = logreg.predict(X_train)\n",
    "y_pred_class = logreg.predict(X_test)"
   ]
  },
  {
   "cell_type": "code",
   "execution_count": 62,
   "id": "bfe07645",
   "metadata": {},
   "outputs": [
    {
     "data": {
      "text/plain": [
       "array([1, 0, 1, 1, 1, 1, 1, 1, 1, 1, 0, 1, 1, 1, 0, 0, 1, 0, 1, 0, 1, 0,\n",
       "       0, 0, 0, 1, 1, 0, 0, 0, 0, 0, 1, 1, 1, 1, 1, 1, 1, 0, 0, 1, 0, 0,\n",
       "       0, 1, 1, 0, 0, 0, 1, 1, 1, 1, 1, 1, 0, 1, 0, 1, 0, 1, 0, 1, 1, 1,\n",
       "       0, 0, 0, 0, 0, 1, 0, 0, 0, 1, 0, 0, 0, 0, 0, 1, 0, 1, 1, 0, 1, 1,\n",
       "       1, 1, 0, 1, 0, 0, 1, 0, 1, 1, 0, 1, 0, 0, 1, 1, 0, 0, 0, 1, 1, 1,\n",
       "       1, 1, 1, 1, 0, 1, 0, 1, 0, 0, 0, 1, 1, 0, 1, 0, 1, 0, 1, 1, 0, 0,\n",
       "       0, 1, 1, 0, 1, 1, 0, 0, 1, 0, 0, 1, 0, 1, 1, 1, 0, 0, 0, 1, 1, 0,\n",
       "       1, 0, 0, 0, 0, 1, 0, 1, 0, 1, 0, 0, 0, 0, 0, 0, 0, 1, 1, 1, 0, 0,\n",
       "       0, 1, 0, 0, 1, 0, 1, 1, 1, 1, 0, 1, 1, 1, 0, 1, 1, 1, 1, 0, 1, 0,\n",
       "       0, 0, 1, 1, 1, 0, 1, 1, 0, 1, 1, 1, 0, 1, 0, 0, 0, 0, 0, 0, 1, 1,\n",
       "       0, 0, 0, 1, 0, 1, 0, 0, 1, 0, 1, 1, 1, 1, 0, 1, 0, 0, 0, 0, 1, 1,\n",
       "       1, 1, 1, 1, 0, 0, 1, 0, 1, 0, 1, 1, 1, 0, 1, 1, 1, 0, 0, 1, 0, 1,\n",
       "       1, 1, 1, 0, 1, 0])"
      ]
     },
     "execution_count": 62,
     "metadata": {},
     "output_type": "execute_result"
    }
   ],
   "source": [
    "# predicting \n",
    "y_pred_class"
   ]
  },
  {
   "cell_type": "code",
   "execution_count": 63,
   "id": "7dc814d5",
   "metadata": {},
   "outputs": [
    {
     "data": {
      "text/plain": [
       "270"
      ]
     },
     "execution_count": 63,
     "metadata": {},
     "output_type": "execute_result"
    }
   ],
   "source": [
    "len(y_train)"
   ]
  },
  {
   "cell_type": "code",
   "execution_count": 64,
   "id": "65946fa6",
   "metadata": {},
   "outputs": [
    {
     "data": {
      "text/plain": [
       "array([[3.78734146e-01, 6.21265854e-01],\n",
       "       [9.35272921e-01, 6.47270786e-02],\n",
       "       [2.15077702e-01, 7.84922298e-01],\n",
       "       [1.02415260e-01, 8.97584740e-01],\n",
       "       [4.13038527e-01, 5.86961473e-01],\n",
       "       [3.44992759e-01, 6.55007241e-01],\n",
       "       [2.03279708e-01, 7.96720292e-01],\n",
       "       [7.59670068e-02, 9.24032993e-01],\n",
       "       [3.98257121e-01, 6.01742879e-01],\n",
       "       [2.15077702e-01, 7.84922298e-01],\n",
       "       [8.25630471e-01, 1.74369529e-01],\n",
       "       [2.21314638e-01, 7.78685362e-01],\n",
       "       [4.57480285e-01, 5.42519715e-01],\n",
       "       [4.37820054e-01, 5.62179946e-01],\n",
       "       [9.29079867e-01, 7.09201334e-02],\n",
       "       [9.76574946e-01, 2.34250544e-02],\n",
       "       [4.16443268e-04, 9.99583557e-01],\n",
       "       [5.94216322e-01, 4.05783678e-01],\n",
       "       [9.38500631e-02, 9.06149937e-01],\n",
       "       [8.43526017e-01, 1.56473983e-01],\n",
       "       [2.35191325e-01, 7.64808675e-01],\n",
       "       [7.57896498e-01, 2.42103502e-01],\n",
       "       [9.76965094e-01, 2.30349057e-02],\n",
       "       [7.26010550e-01, 2.73989450e-01],\n",
       "       [5.96878138e-01, 4.03121862e-01],\n",
       "       [4.63865987e-01, 5.36134013e-01],\n",
       "       [4.72164158e-01, 5.27835842e-01],\n",
       "       [9.96674903e-01, 3.32509684e-03],\n",
       "       [8.22301597e-01, 1.77698403e-01],\n",
       "       [9.35272921e-01, 6.47270786e-02],\n",
       "       [9.70080952e-01, 2.99190484e-02],\n",
       "       [9.03336917e-01, 9.66630829e-02],\n",
       "       [8.59059504e-02, 9.14094050e-01],\n",
       "       [4.03638731e-01, 5.96361269e-01],\n",
       "       [2.34685037e-01, 7.65314963e-01],\n",
       "       [8.59059504e-02, 9.14094050e-01],\n",
       "       [4.57480285e-01, 5.42519715e-01],\n",
       "       [3.25492051e-01, 6.74507949e-01],\n",
       "       [1.02877093e-01, 8.97122907e-01],\n",
       "       [6.20959168e-01, 3.79040832e-01],\n",
       "       [8.75460084e-01, 1.24539916e-01],\n",
       "       [1.02415260e-01, 8.97584740e-01],\n",
       "       [6.36853609e-01, 3.63146391e-01],\n",
       "       [5.96878138e-01, 4.03121862e-01],\n",
       "       [9.39443467e-01, 6.05565334e-02],\n",
       "       [4.39129505e-01, 5.60870495e-01],\n",
       "       [3.40805361e-01, 6.59194639e-01],\n",
       "       [6.90797799e-01, 3.09202201e-01],\n",
       "       [6.36853609e-01, 3.63146391e-01],\n",
       "       [5.96878138e-01, 4.03121862e-01],\n",
       "       [2.00917792e-01, 7.99082208e-01],\n",
       "       [2.73238986e-01, 7.26761014e-01],\n",
       "       [2.73238986e-01, 7.26761014e-01],\n",
       "       [1.39166448e-01, 8.60833552e-01],\n",
       "       [2.52975922e-01, 7.47024078e-01],\n",
       "       [5.08081694e-02, 9.49191831e-01],\n",
       "       [9.65662577e-01, 3.43374229e-02],\n",
       "       [4.39067243e-01, 5.60932757e-01],\n",
       "       [6.68528407e-01, 3.31471593e-01],\n",
       "       [1.60518611e-01, 8.39481389e-01],\n",
       "       [6.88204105e-01, 3.11795895e-01],\n",
       "       [3.49278416e-01, 6.50721584e-01],\n",
       "       [9.76574946e-01, 2.34250544e-02],\n",
       "       [1.85451461e-01, 8.14548539e-01],\n",
       "       [3.05660114e-01, 6.94339886e-01],\n",
       "       [9.00718637e-04, 9.99099281e-01],\n",
       "       [5.84602914e-01, 4.15397086e-01],\n",
       "       [5.28590711e-01, 4.71409289e-01],\n",
       "       [9.57033992e-01, 4.29660084e-02],\n",
       "       [9.39630088e-01, 6.03699124e-02],\n",
       "       [6.73563593e-01, 3.26436407e-01],\n",
       "       [2.33915272e-01, 7.66084728e-01],\n",
       "       [9.74592830e-01, 2.54071701e-02],\n",
       "       [8.25630471e-01, 1.74369529e-01],\n",
       "       [8.81472080e-01, 1.18527920e-01],\n",
       "       [3.22017834e-01, 6.77982166e-01],\n",
       "       [7.19899184e-01, 2.80100816e-01],\n",
       "       [5.04963688e-01, 4.95036312e-01],\n",
       "       [7.94106587e-01, 2.05893413e-01],\n",
       "       [5.48946159e-01, 4.51053841e-01],\n",
       "       [7.43161836e-01, 2.56838164e-01],\n",
       "       [1.28451598e-01, 8.71548402e-01],\n",
       "       [5.70152227e-01, 4.29847773e-01],\n",
       "       [1.75770588e-01, 8.24229412e-01],\n",
       "       [2.37403163e-01, 7.62596837e-01],\n",
       "       [6.17469020e-01, 3.82530980e-01],\n",
       "       [6.47012898e-03, 9.93529871e-01],\n",
       "       [4.92611907e-01, 5.07388093e-01],\n",
       "       [2.75301274e-01, 7.24698726e-01],\n",
       "       [3.22017834e-01, 6.77982166e-01],\n",
       "       [9.76574946e-01, 2.34250544e-02],\n",
       "       [5.58343667e-02, 9.44165633e-01],\n",
       "       [7.96886730e-01, 2.03113270e-01],\n",
       "       [7.19899184e-01, 2.80100816e-01],\n",
       "       [2.49607118e-01, 7.50392882e-01],\n",
       "       [7.52533163e-01, 2.47466837e-01],\n",
       "       [4.39129505e-01, 5.60870495e-01],\n",
       "       [3.25635186e-01, 6.74364814e-01],\n",
       "       [9.94865295e-01, 5.13470542e-03],\n",
       "       [3.45474355e-01, 6.54525645e-01],\n",
       "       [5.34627502e-01, 4.65372498e-01],\n",
       "       [6.39541878e-01, 3.60458122e-01],\n",
       "       [5.12783523e-02, 9.48721648e-01],\n",
       "       [2.73238986e-01, 7.26761014e-01],\n",
       "       [5.88570453e-01, 4.11429547e-01],\n",
       "       [9.95307108e-01, 4.69289169e-03],\n",
       "       [5.95001559e-01, 4.04998441e-01],\n",
       "       [2.21024631e-01, 7.78975369e-01],\n",
       "       [4.09386576e-01, 5.90613424e-01],\n",
       "       [9.68756442e-04, 9.99031244e-01],\n",
       "       [3.43575650e-01, 6.56424350e-01],\n",
       "       [1.46598696e-01, 8.53401304e-01],\n",
       "       [2.21024631e-01, 7.78975369e-01],\n",
       "       [2.06183306e-01, 7.93816694e-01],\n",
       "       [6.54489269e-01, 3.45510731e-01],\n",
       "       [3.88141364e-02, 9.61185864e-01],\n",
       "       [6.47997327e-01, 3.52002673e-01],\n",
       "       [3.44992759e-01, 6.55007241e-01],\n",
       "       [5.43492769e-01, 4.56507231e-01],\n",
       "       [7.62317382e-01, 2.37682618e-01],\n",
       "       [5.28590711e-01, 4.71409289e-01],\n",
       "       [1.55018030e-01, 8.44981970e-01],\n",
       "       [4.39129505e-01, 5.60870495e-01],\n",
       "       [9.82264513e-01, 1.77354874e-02],\n",
       "       [2.21024631e-01, 7.78975369e-01],\n",
       "       [6.76424847e-01, 3.23575153e-01],\n",
       "       [4.63776937e-01, 5.36223063e-01],\n",
       "       [8.02718984e-01, 1.97281016e-01],\n",
       "       [4.63865987e-01, 5.36134013e-01],\n",
       "       [4.38219607e-01, 5.61780393e-01],\n",
       "       [5.43506057e-01, 4.56493943e-01],\n",
       "       [7.86733145e-01, 2.13266855e-01],\n",
       "       [7.77176901e-01, 2.22823099e-01],\n",
       "       [4.16443268e-04, 9.99583557e-01],\n",
       "       [2.21314638e-01, 7.78685362e-01],\n",
       "       [5.48946159e-01, 4.51053841e-01],\n",
       "       [1.48850636e-01, 8.51149364e-01],\n",
       "       [5.48075987e-02, 9.45192401e-01],\n",
       "       [9.55972660e-01, 4.40273400e-02],\n",
       "       [9.57033992e-01, 4.29660084e-02],\n",
       "       [1.04308645e-01, 8.95691355e-01],\n",
       "       [7.33427466e-01, 2.66572534e-01],\n",
       "       [6.87125504e-01, 3.12874496e-01],\n",
       "       [2.19979393e-01, 7.80020607e-01],\n",
       "       [6.57212958e-01, 3.42787042e-01],\n",
       "       [6.47012898e-03, 9.93529871e-01],\n",
       "       [2.49607118e-01, 7.50392882e-01],\n",
       "       [4.13038527e-01, 5.86961473e-01],\n",
       "       [6.92250157e-01, 3.07749843e-01],\n",
       "       [9.21789827e-01, 7.82101727e-02],\n",
       "       [5.07091621e-01, 4.92908379e-01],\n",
       "       [4.94723226e-01, 5.05276774e-01],\n",
       "       [2.73238986e-01, 7.26761014e-01],\n",
       "       [6.79171673e-01, 3.20828327e-01],\n",
       "       [1.69072227e-01, 8.30927773e-01],\n",
       "       [7.31309042e-01, 2.68690958e-01],\n",
       "       [9.92946097e-01, 7.05390282e-03],\n",
       "       [7.80993552e-01, 2.19006448e-01],\n",
       "       [9.94933747e-01, 5.06625317e-03],\n",
       "       [1.41052878e-01, 8.58947122e-01],\n",
       "       [9.35272921e-01, 6.47270786e-02],\n",
       "       [2.52975922e-01, 7.47024078e-01],\n",
       "       [5.96878138e-01, 4.03121862e-01],\n",
       "       [2.75301274e-01, 7.24698726e-01],\n",
       "       [7.99463369e-01, 2.00536631e-01],\n",
       "       [9.69801805e-01, 3.01981952e-02],\n",
       "       [6.52803484e-01, 3.47196516e-01],\n",
       "       [6.69577384e-01, 3.30422616e-01],\n",
       "       [7.55923253e-01, 2.44076747e-01],\n",
       "       [9.25429980e-01, 7.45700200e-02],\n",
       "       [5.90515377e-01, 4.09484623e-01],\n",
       "       [1.36259557e-01, 8.63740443e-01],\n",
       "       [7.29872670e-02, 9.27012733e-01],\n",
       "       [4.39129505e-01, 5.60870495e-01],\n",
       "       [5.01507860e-01, 4.98492140e-01],\n",
       "       [8.77982273e-01, 1.22017727e-01],\n",
       "       [9.90096356e-01, 9.90364447e-03],\n",
       "       [7.58235695e-02, 9.24176430e-01],\n",
       "       [6.99537141e-01, 3.00462859e-01],\n",
       "       [6.50874629e-01, 3.49125371e-01],\n",
       "       [4.56528679e-01, 5.43471321e-01],\n",
       "       [6.57212958e-01, 3.42787042e-01],\n",
       "       [2.27203661e-01, 7.72796339e-01],\n",
       "       [3.63866255e-01, 6.36133745e-01],\n",
       "       [4.09386576e-01, 5.90613424e-01],\n",
       "       [3.47779010e-01, 6.52220990e-01],\n",
       "       [9.68592222e-01, 3.14077781e-02],\n",
       "       [4.93085071e-01, 5.06914929e-01],\n",
       "       [6.51813549e-02, 9.34818645e-01],\n",
       "       [2.56939428e-03, 9.97430606e-01],\n",
       "       [5.01507860e-01, 4.98492140e-01],\n",
       "       [3.84417048e-01, 6.15582952e-01],\n",
       "       [4.67766390e-01, 5.32233610e-01],\n",
       "       [1.02877093e-01, 8.97122907e-01],\n",
       "       [5.91766028e-03, 9.94082340e-01],\n",
       "       [6.75892909e-01, 3.24107091e-01],\n",
       "       [1.51498542e-01, 8.48501458e-01],\n",
       "       [9.27768183e-01, 7.22318173e-02],\n",
       "       [9.49983482e-01, 5.00165177e-02],\n",
       "       [5.28590711e-01, 4.71409289e-01],\n",
       "       [1.28451598e-01, 8.71548402e-01],\n",
       "       [1.37859434e-01, 8.62140566e-01],\n",
       "       [1.46598696e-01, 8.53401304e-01],\n",
       "       [9.51292444e-01, 4.87075558e-02],\n",
       "       [3.45474355e-01, 6.54525645e-01],\n",
       "       [2.21314638e-01, 7.78685362e-01],\n",
       "       [7.80993552e-01, 2.19006448e-01],\n",
       "       [3.95688276e-01, 6.04311724e-01],\n",
       "       [2.09044931e-01, 7.90955069e-01],\n",
       "       [1.11989628e-02, 9.88801037e-01],\n",
       "       [6.20959168e-01, 3.79040832e-01],\n",
       "       [4.27897596e-01, 5.72102404e-01],\n",
       "       [5.64559090e-01, 4.35440910e-01],\n",
       "       [8.68391687e-01, 1.31608313e-01],\n",
       "       [7.64652721e-01, 2.35347279e-01],\n",
       "       [6.10348042e-01, 3.89651958e-01],\n",
       "       [9.55972660e-01, 4.40273400e-02],\n",
       "       [9.65811824e-01, 3.41881764e-02],\n",
       "       [6.04359407e-02, 9.39564059e-01],\n",
       "       [1.51498542e-01, 8.48501458e-01],\n",
       "       [9.74178006e-01, 2.58219938e-02],\n",
       "       [7.88388808e-01, 2.11611192e-01],\n",
       "       [5.03939054e-01, 4.96060946e-01],\n",
       "       [2.49607118e-01, 7.50392882e-01],\n",
       "       [5.34627502e-01, 4.65372498e-01],\n",
       "       [5.48075987e-02, 9.45192401e-01],\n",
       "       [8.88683144e-01, 1.11316856e-01],\n",
       "       [6.75892909e-01, 3.24107091e-01],\n",
       "       [3.25492051e-01, 6.74507949e-01],\n",
       "       [8.40535041e-01, 1.59464959e-01],\n",
       "       [2.40899733e-01, 7.59100267e-01],\n",
       "       [4.13038527e-01, 5.86961473e-01],\n",
       "       [2.49607118e-01, 7.50392882e-01],\n",
       "       [8.59059504e-02, 9.14094050e-01],\n",
       "       [6.90797799e-01, 3.09202201e-01],\n",
       "       [1.85451461e-01, 8.14548539e-01],\n",
       "       [5.43506057e-01, 4.56493943e-01],\n",
       "       [6.27357261e-01, 3.72642739e-01],\n",
       "       [5.73444489e-01, 4.26555511e-01],\n",
       "       [9.57033992e-01, 4.29660084e-02],\n",
       "       [2.06183306e-01, 7.93816694e-01],\n",
       "       [1.03800899e-02, 9.89619910e-01],\n",
       "       [3.43575650e-01, 6.56424350e-01],\n",
       "       [7.59670068e-02, 9.24032993e-01],\n",
       "       [1.11989628e-02, 9.88801037e-01],\n",
       "       [3.86413875e-01, 6.13586125e-01],\n",
       "       [6.22890624e-01, 3.77109376e-01],\n",
       "       [7.77176901e-01, 2.22823099e-01],\n",
       "       [4.98361356e-01, 5.01638644e-01],\n",
       "       [5.28290054e-01, 4.71709946e-01],\n",
       "       [1.21395099e-02, 9.87860490e-01],\n",
       "       [9.21025777e-01, 7.89742228e-02],\n",
       "       [3.63866255e-01, 6.36133745e-01],\n",
       "       [4.38219607e-01, 5.61780393e-01],\n",
       "       [4.63776937e-01, 5.36223063e-01],\n",
       "       [5.64561016e-01, 4.35438984e-01],\n",
       "       [9.38500631e-02, 9.06149937e-01],\n",
       "       [4.38219607e-01, 5.61780393e-01],\n",
       "       [1.51498542e-01, 8.48501458e-01],\n",
       "       [5.07091621e-01, 4.92908379e-01],\n",
       "       [5.73444489e-01, 4.26555511e-01],\n",
       "       [4.76047487e-01, 5.23952513e-01],\n",
       "       [9.96674903e-01, 3.32509684e-03],\n",
       "       [2.48811902e-01, 7.51188098e-01],\n",
       "       [6.04359407e-02, 9.39564059e-01],\n",
       "       [7.96588655e-02, 9.20341135e-01],\n",
       "       [2.69167672e-01, 7.30832328e-01],\n",
       "       [9.49983482e-01, 5.00165177e-02],\n",
       "       [6.47012898e-03, 9.93529871e-01],\n",
       "       [9.70080952e-01, 2.99190484e-02]])"
      ]
     },
     "execution_count": 64,
     "metadata": {},
     "output_type": "execute_result"
    }
   ],
   "source": [
    "logreg.predict_proba(X_test)"
   ]
  },
  {
   "cell_type": "code",
   "execution_count": 65,
   "id": "1db65eb5",
   "metadata": {},
   "outputs": [],
   "source": [
    "def acc_val(TP, TN, FP, FN, data):    \n",
    "    accuracy = (TP + TN) / float(TP + TN + FP + FN)\n",
    "    recall = TP / float(FN + TP)\n",
    "    specificity = TN / (TN + FP)\n",
    "    false_positive_rate = FP / float(TN + FP)\n",
    "    precision = TP / float(TP + FP)\n",
    "    F1 = 2 * (precision * recall) / (precision + recall)\n",
    "    print('The values for {} are:'.format(data))\n",
    "    print('Accuracy: {} ,Recall: {} , Specificity: {} , False Positive Rate: {} , Precision: {}, F1 Score: {}'.format(accuracy, recall, specificity, false_positive_rate,\n",
    "                                                                                                                   precision, F1))"
   ]
  },
  {
   "cell_type": "code",
   "execution_count": 66,
   "id": "7682372d",
   "metadata": {},
   "outputs": [
    {
     "name": "stdout",
     "output_type": "stream",
     "text": [
      "[[87 49]\n",
      " [42 92]]\n",
      "The values for Test Data are:\n",
      "Accuracy: 0.662962962962963 ,Recall: 0.6865671641791045 , Specificity: 0.6397058823529411 , False Positive Rate: 0.3602941176470588 , Precision: 0.6524822695035462, F1 Score: 0.6690909090909091\n"
     ]
    }
   ],
   "source": [
    "# test data \n",
    "confusion = metrics.confusion_matrix(y_test, y_pred_class)\n",
    "print(confusion)\n",
    "TP1 = confusion[1, 1]\n",
    "TN1 = confusion[0, 0]\n",
    "FP1 = confusion[0, 1]\n",
    "FN1 = confusion[1, 0]\n",
    "acc_val(TP1, TN1, FP1, FN1, 'Test Data')"
   ]
  },
  {
   "cell_type": "code",
   "execution_count": 67,
   "id": "7caca53d",
   "metadata": {},
   "outputs": [
    {
     "name": "stdout",
     "output_type": "stream",
     "text": [
      "[[109  25]\n",
      " [ 26 110]]\n",
      "The values for Train Data are:\n",
      "Accuracy: 0.8111111111111111 ,Recall: 0.8088235294117647 , Specificity: 0.8134328358208955 , False Positive Rate: 0.1865671641791045 , Precision: 0.8148148148148148, F1 Score: 0.8118081180811809\n"
     ]
    }
   ],
   "source": [
    "# train data \n",
    "confusion = metrics.confusion_matrix(y_train, y_pred_train)\n",
    "print(confusion)\n",
    "TP2 = confusion[1, 1]\n",
    "TN2 = confusion[0, 0]\n",
    "FP2 = confusion[0, 1]\n",
    "FN2 = confusion[1, 0]\n",
    "acc_val(TP2, TN2, FP2, FN2, 'Train Data')"
   ]
  },
  {
   "cell_type": "code",
   "execution_count": 68,
   "id": "12465b70",
   "metadata": {},
   "outputs": [
    {
     "data": {
      "text/plain": [
       "0.6631365232660228"
      ]
     },
     "execution_count": 68,
     "metadata": {},
     "output_type": "execute_result"
    }
   ],
   "source": [
    "roc_auc_score(y_test, logreg.predict(X_test))"
   ]
  },
  {
   "cell_type": "code",
   "execution_count": 69,
   "id": "dff580cc",
   "metadata": {},
   "outputs": [],
   "source": [
    "#Hyperparameter tuning"
   ]
  },
  {
   "cell_type": "code",
   "execution_count": 48,
   "id": "007ef60d",
   "metadata": {},
   "outputs": [
    {
     "name": "stdout",
     "output_type": "stream",
     "text": [
      "Best: 0.639506 using {'C': 100, 'penalty': 'l2', 'solver': 'newton-cg'}\n"
     ]
    }
   ],
   "source": [
    "# define models and parameters\n",
    "model = LogisticRegression()\n",
    "solvers = ['newton-cg', 'lbfgs', 'liblinear']\n",
    "penalty = ['l2']\n",
    "c_values = [100, 10, 1.0, 0.1, 0.01]\n",
    "# define grid search\n",
    "grid = dict(solver=solvers,penalty=penalty,C=c_values)\n",
    "cv = RepeatedStratifiedKFold(n_splits=10, n_repeats=3, random_state=1)\n",
    "grid_search = GridSearchCV(estimator=model, param_grid=grid, n_jobs=-1, cv=cv, scoring='accuracy',error_score=0)\n",
    "grid_result = grid_search.fit(X_test, y_test)\n",
    "print(\"Best: %f using %s\" % (grid_result.best_score_, grid_result.best_params_))\n",
    "params = grid_result.cv_results_['params']"
   ]
  },
  {
   "cell_type": "raw",
   "id": "4533dacb",
   "metadata": {},
   "source": []
  },
  {
   "cell_type": "code",
   "execution_count": null,
   "id": "42184a2d",
   "metadata": {},
   "outputs": [],
   "source": []
  },
  {
   "cell_type": "code",
   "execution_count": null,
   "id": "5e42620e",
   "metadata": {},
   "outputs": [],
   "source": []
  },
  {
   "cell_type": "code",
   "execution_count": null,
   "id": "723ac964",
   "metadata": {},
   "outputs": [],
   "source": []
  },
  {
   "cell_type": "code",
   "execution_count": null,
   "id": "225737ae",
   "metadata": {},
   "outputs": [],
   "source": []
  }
 ],
 "metadata": {
  "kernelspec": {
   "display_name": "Python 3",
   "language": "python",
   "name": "python3"
  },
  "language_info": {
   "codemirror_mode": {
    "name": "ipython",
    "version": 3
   },
   "file_extension": ".py",
   "mimetype": "text/x-python",
   "name": "python",
   "nbconvert_exporter": "python",
   "pygments_lexer": "ipython3",
   "version": "3.8.8"
  }
 },
 "nbformat": 4,
 "nbformat_minor": 5
}
